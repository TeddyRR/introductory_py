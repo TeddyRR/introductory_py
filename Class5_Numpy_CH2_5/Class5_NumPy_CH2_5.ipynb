{
 "cells": [
  {
   "cell_type": "markdown",
   "metadata": {},
   "source": [
    "### <font color = blue> Sorting Arrays </font>\n",
    "    1. **Insersion sorts**\n",
    "<img src=\"insersion_sort.jpg\" width = 400>\n",
    "<br>\n",
    "<img src=\"Insertion-sort-example-300px.gif\" width = 150>\n",
    "\n",
    "    2. **Selection sorts**: repeatedly finds the min from a list and makes swaps until the list is sorted.\n",
    "<img src=\"Selection-Sort-Animation.gif\" width = 50>    \n",
    "\n",
    "    3. **Merge sorts**\n",
    "<img src=\"merge-sort-algorithm-diagram.png\" width = 600>\n",
    "<br>\n",
    "<img src=\"Merge-sort-example-300px.gif\" width = 200>\n",
    "        \n",
    "    4. **Quick sorts**\n",
    "        4.1 Pick an element, called a pivot, from the array.\n",
    "        4.2 Partitioning: reorder the array so that all elements with values less than the pivot come before the pivot, while all elements with values greater than the pivot come after it (equal values can go either way). After this partitioning, the pivot is in its final position. This is called the partition operation.\n",
    "        4.3 Recursively apply the above steps to the sub-array of elements with smaller values and separately to the sub-array of elements with greater values.\n",
    "<img src=\"files/400px-Quicksort-diagram.svg.png\" width = 250>\n",
    "    \n",
    "    5. **Buble sorts**\n",
    "        Starting from the beginning of the list, compare every adjacent pair, swap their position if they are not in the right order (the latter one is smaller than the former one). After each iteration, one less element (the last one) is needed to be compared until there are no more elements left to be compared.\n",
    "<img src=\"Bubble-sort-example-300px.gif\" width = 150>\n",
    "\n",
    "    6. **Heap sorts**\n",
    "<img src=\"files/heap_sort.jpg\" width = 600>\n",
    "    \n",
    "    7. **Step of sorts**\n",
    "<img src=\"files/sort_step.png\">\n"
   ]
  },
  {
   "cell_type": "code",
   "execution_count": 1,
   "metadata": {},
   "outputs": [],
   "source": [
    "import numpy as np"
   ]
  },
  {
   "cell_type": "code",
   "execution_count": null,
   "metadata": {},
   "outputs": [],
   "source": [
    "def selection_sort(x):\n",
    "    for i in range (len(x)):\n",
    "        swap = i + np.argmin(x[i:])\n",
    "        x[i], x[swap] = x[swap], x[i]\n",
    "    return x"
   ]
  },
  {
   "cell_type": "code",
   "execution_count": null,
   "metadata": {},
   "outputs": [],
   "source": [
    "x = np.array([2, 1, 4, 3, 5])"
   ]
  },
  {
   "cell_type": "code",
   "execution_count": null,
   "metadata": {},
   "outputs": [],
   "source": [
    "selection_sort(x) #O[N^2]"
   ]
  },
  {
   "cell_type": "markdown",
   "metadata": {},
   "source": [
    "[3, 7, 2, 6, 1, 10, 9]\n",
    "i = 0\n",
    "xtemp = x[0:]  #xtemp = [3, 7, 2, 6, 1, 10, 9]\n",
    "np.argmin(xtemp) # = 4\n",
    "swap = 0 + 4 # 4\n",
    "(x[0], x[4]) = (x[4], x[0]) # swaping\n",
    "x # = [1, 7, 2, 6, 3, 10, 9]\n",
    "\n",
    "i = 1         #    x = [1, 7, 2, 6, 3, 10, 9]\n",
    "xtemp = x[1:] #xtemp = [7, 2, 6, 3, 10, 9]\n",
    "np.argmin(xtemp) # = 1\n",
    "swap = 1 + 1  # =2\n",
    "x[1], x[2] = (x[2], x[1]"
   ]
  },
  {
   "cell_type": "code",
   "execution_count": null,
   "metadata": {},
   "outputs": [],
   "source": [
    "def bogosort(x):\n",
    "    while np.any(x[:-1] > x[1:]):\n",
    "        np.random.shuffle(x)\n",
    "    return x"
   ]
  },
  {
   "cell_type": "code",
   "execution_count": null,
   "metadata": {},
   "outputs": [],
   "source": [
    "[1, 2, 3, 4, 5, 6, 7]\n",
    "arr_left =  np.array([1, 2, 3, 4, 5, 6])\n",
    "arr_right = np.array([2, 3, 4, 5, 6, 7])\n",
    "\n",
    "arr_right > arr_left"
   ]
  },
  {
   "cell_type": "code",
   "execution_count": null,
   "metadata": {},
   "outputs": [],
   "source": [
    "x = np.array([2, 1, 4, 3, 5])\n",
    "bogosort(x) #O[N x N!]"
   ]
  },
  {
   "cell_type": "code",
   "execution_count": null,
   "metadata": {},
   "outputs": [],
   "source": []
  },
  {
   "cell_type": "markdown",
   "metadata": {},
   "source": [
    "#### <font color = blue> Fast Sorting in NumPy: np.sort and np.argsort </color>\n",
    "> - np.sort(a, axis=-1, kind='quicksort', order=None)\n",
    "    1. axis : int or None, optional\n",
    "        Axis along which to sort. If None, the array is flattened before sorting. The default is -1, which sorts along the last axis.\n",
    "    2. kind : {'quicksort', 'mergesort', 'heapsort'}, optional. Sorting algorithm. Default is 'quicksort'.\n",
    "    3. a.sort(axis=-1, kind='quicksort', order=None) <font color = red> Change the order of the array </font>\n",
    "    \n",
    "    \n",
    "> - np.argsort(a, axis=-1, kind='quicksort', order=None)\n",
    "    <br> &emsp; a.argsort(axis=-1, kind='quicksort', order=None)\n",
    "    <br> &emsp;&emsp; <font color = red> **argsort** doesn't change the order of the array </font>\n",
    "    \n",
    "\n",
    "> - Sorting along rows or columns\n",
    "<br>&emsp; <font color = red> Keep in mind that this treats each row or column as an independent array, and any relationships between the row or column values will be lost! </font>"
   ]
  },
  {
   "cell_type": "code",
   "execution_count": null,
   "metadata": {},
   "outputs": [],
   "source": [
    "np.argsort?"
   ]
  },
  {
   "cell_type": "code",
   "execution_count": null,
   "metadata": {},
   "outputs": [],
   "source": [
    "arr1 = np.array([100, 105, 98, 30, 200])\n",
    "#(0,   1,   2,  3,  4)"
   ]
  },
  {
   "cell_type": "code",
   "execution_count": null,
   "metadata": {},
   "outputs": [],
   "source": [
    "ind = arr1.argsort()\n",
    "ind"
   ]
  },
  {
   "cell_type": "code",
   "execution_count": null,
   "metadata": {},
   "outputs": [],
   "source": [
    "arr1[ind[0:3]]"
   ]
  },
  {
   "cell_type": "code",
   "execution_count": null,
   "metadata": {},
   "outputs": [],
   "source": [
    "a = np.random.randint(0, 20, (4, 5))"
   ]
  },
  {
   "cell_type": "code",
   "execution_count": null,
   "metadata": {},
   "outputs": [],
   "source": []
  },
  {
   "cell_type": "code",
   "execution_count": null,
   "metadata": {},
   "outputs": [],
   "source": [
    "b = a.copy()\n",
    "b"
   ]
  },
  {
   "cell_type": "code",
   "execution_count": null,
   "metadata": {},
   "outputs": [],
   "source": [
    "np.sort(b, None )"
   ]
  },
  {
   "cell_type": "code",
   "execution_count": null,
   "metadata": {},
   "outputs": [],
   "source": [
    "np.sort?"
   ]
  },
  {
   "cell_type": "code",
   "execution_count": null,
   "metadata": {},
   "outputs": [],
   "source": [
    "x = np.random.randint(0, 20, 10)\n",
    "x"
   ]
  },
  {
   "cell_type": "code",
   "execution_count": null,
   "metadata": {},
   "outputs": [],
   "source": [
    "xc=x.copy()\n",
    "x1 = xc.copy()\n",
    "x2 = xc.copy()"
   ]
  },
  {
   "cell_type": "code",
   "execution_count": null,
   "metadata": {},
   "outputs": [],
   "source": [
    "x1 # doesn't change order"
   ]
  },
  {
   "cell_type": "code",
   "execution_count": null,
   "metadata": {},
   "outputs": [],
   "source": [
    "x1.sort?"
   ]
  },
  {
   "cell_type": "code",
   "execution_count": null,
   "metadata": {},
   "outputs": [],
   "source": [
    "x1.sort()"
   ]
  },
  {
   "cell_type": "code",
   "execution_count": null,
   "metadata": {},
   "outputs": [],
   "source": [
    "x1 #change order"
   ]
  },
  {
   "cell_type": "code",
   "execution_count": null,
   "metadata": {},
   "outputs": [],
   "source": [
    "x2.argsort()"
   ]
  },
  {
   "cell_type": "code",
   "execution_count": null,
   "metadata": {},
   "outputs": [],
   "source": [
    "x2"
   ]
  },
  {
   "cell_type": "code",
   "execution_count": null,
   "metadata": {},
   "outputs": [],
   "source": [
    "np.argsort(x2)"
   ]
  },
  {
   "cell_type": "code",
   "execution_count": null,
   "metadata": {},
   "outputs": [],
   "source": [
    "x2"
   ]
  },
  {
   "cell_type": "code",
   "execution_count": null,
   "metadata": {},
   "outputs": [],
   "source": [
    "rand = np.random.RandomState(42)\n",
    "X = rand.randint(0, 10, (4, 6))\n",
    "X"
   ]
  },
  {
   "cell_type": "code",
   "execution_count": null,
   "metadata": {
    "scrolled": true
   },
   "outputs": [],
   "source": [
    "# sort each column of X\n",
    "np.sort(X, axis = 0)"
   ]
  },
  {
   "cell_type": "code",
   "execution_count": null,
   "metadata": {},
   "outputs": [],
   "source": [
    "X"
   ]
  },
  {
   "cell_type": "code",
   "execution_count": null,
   "metadata": {},
   "outputs": [],
   "source": [
    "X.sort(axis = 0) # change order of X"
   ]
  },
  {
   "cell_type": "code",
   "execution_count": null,
   "metadata": {},
   "outputs": [],
   "source": [
    "X"
   ]
  },
  {
   "cell_type": "markdown",
   "metadata": {},
   "source": [
    "#### <font color = blue> Partial Sorts </font>\n",
    "> - Sometimes we're not interested in sorting the entire array, but simply want to find the K smallest values in the array. \n",
    "\n",
    "\n",
    "> - np.partition(a, kth, axis=-1, kind='introselect', order=None)\n",
    "<br> &emsp; *Creates a copy of the array with its elements rearranged in such a way that the value of the element in k-th position is in the position it would be in a sorted array. All elements smaller than the k-th element are moved before this element and all equal or greater are moved behind it. The ordering of the elements in the two partitions is undefined.*\n",
    "\n",
    "\n",
    "> - np.np.argpartition(a, axis=-1, kind='introselect', order=None)\n",
    "<br> &emsp; *Perform an indirect partition along the given axis using the\n",
    "algorithm specified by the `kind` keyword. It returns an array of\n",
    "indices of the same shape as `a` that index data along the given\n",
    "axis in partitioned order.\n",
    "<br> The k-th element will be in its final sorted position and all smaller elements will be moved before it and all larger elements behind it. The order all elements in the partitions is undefined. If provided with a sequence of k-th it will partition all of them into their sorted position at once.*\n",
    "\n",
    "\n",
    "> - a.partition(kth, axis=-1, kind='introselect', order=None)\n",
    "\n",
    "\n",
    "> - a.argpartition(kth, axis=-1, kind='introselect', order=None)"
   ]
  },
  {
   "cell_type": "code",
   "execution_count": null,
   "metadata": {},
   "outputs": [],
   "source": [
    "np.partition(a, kth, axis=-1, kind='introselect', order=None)\n"
   ]
  },
  {
   "cell_type": "code",
   "execution_count": null,
   "metadata": {},
   "outputs": [],
   "source": [
    "np.partition?"
   ]
  },
  {
   "cell_type": "code",
   "execution_count": null,
   "metadata": {},
   "outputs": [],
   "source": [
    "a = np.array([3, 4, 2, 1, 7, 30, 100, 1000, 10, 7])\n",
    "np.partition(a, 4)"
   ]
  },
  {
   "cell_type": "code",
   "execution_count": null,
   "metadata": {},
   "outputs": [],
   "source": [
    "x = np.array([7, 2, 3, 1, 6, 5, 4])\n",
    "np.partition(x, 3)\n",
    "# The first three values in the resulting array are the three smallest \n",
    "# in the array, and the remaining array positions contain the remaining values.\n",
    "# Within the two partitions, the elemeents have arbitrary order."
   ]
  },
  {
   "cell_type": "code",
   "execution_count": null,
   "metadata": {},
   "outputs": [],
   "source": [
    "X"
   ]
  },
  {
   "cell_type": "code",
   "execution_count": null,
   "metadata": {},
   "outputs": [],
   "source": [
    "np.partition(X, 2, axis = 1)"
   ]
  },
  {
   "cell_type": "code",
   "execution_count": null,
   "metadata": {},
   "outputs": [],
   "source": [
    "X"
   ]
  },
  {
   "cell_type": "code",
   "execution_count": null,
   "metadata": {},
   "outputs": [],
   "source": [
    "np.partition(X, 2, axis = 1)"
   ]
  },
  {
   "cell_type": "code",
   "execution_count": null,
   "metadata": {},
   "outputs": [],
   "source": [
    "indmatrix = X.argpartition(2, axis = 1)"
   ]
  },
  {
   "cell_type": "code",
   "execution_count": null,
   "metadata": {},
   "outputs": [],
   "source": [
    "r1 = indmatrix[0,:]\n",
    "X[0,:][r1]"
   ]
  },
  {
   "cell_type": "code",
   "execution_count": null,
   "metadata": {},
   "outputs": [],
   "source": [
    "X.argpartition(2, axis = 1)"
   ]
  },
  {
   "cell_type": "markdown",
   "metadata": {},
   "source": [
    "### <font color = blue> Example: k-Nearest Neighbors </font>"
   ]
  },
  {
   "cell_type": "code",
   "execution_count": 2,
   "metadata": {},
   "outputs": [
    {
     "data": {
      "text/plain": [
       "array([[0.6038217 , 0.40419399],\n",
       "       [0.25280539, 0.42876341],\n",
       "       [0.64133341, 0.65367049],\n",
       "       [0.27776378, 0.57032578],\n",
       "       [0.42866823, 0.01120765],\n",
       "       [0.53166691, 0.63952106],\n",
       "       [0.4453367 , 0.91106057],\n",
       "       [0.01365971, 0.67418532],\n",
       "       [0.70793453, 0.18182734],\n",
       "       [0.36666701, 0.34611045]])"
      ]
     },
     "execution_count": 2,
     "metadata": {},
     "output_type": "execute_result"
    }
   ],
   "source": [
    "# Generate 10 points on a 2D plane\n",
    "arr = np.random.rand(10, 2)\n",
    "arr"
   ]
  },
  {
   "cell_type": "code",
   "execution_count": 3,
   "metadata": {},
   "outputs": [],
   "source": [
    "%matplotlib inline\n",
    "import matplotlib.pyplot as plt\n",
    "import seaborn; seaborn.set() # Plot styling"
   ]
  },
  {
   "cell_type": "code",
   "execution_count": 4,
   "metadata": {},
   "outputs": [
    {
     "data": {
      "image/png": "[encoded data removed]",
      "text/plain": [
       "<matplotlib.figure.Figure at 0xb1cb208>"
      ]
     },
     "metadata": {},
     "output_type": "display_data"
    }
   ],
   "source": [
    "plt.scatter(arr[:, 0], arr[:, 1], s = 100)\n",
    "plt.show()"
   ]
  },
  {
   "cell_type": "code",
   "execution_count": 5,
   "metadata": {},
   "outputs": [],
   "source": [
    "# Compute the matrix of square distances\n",
    "dist_sq = np.sum((arr[:, np.newaxis, :] - arr[np.newaxis, :, :]) ** 2, axis = -1)"
   ]
  },
  {
   "cell_type": "code",
   "execution_count": 6,
   "metadata": {},
   "outputs": [
    {
     "data": {
      "text/plain": [
       "array([[0.        , 0.12381611, 0.06364565, 0.13391354, 0.185117  ,\n",
       "        0.06058514, 0.28203122, 0.4211865 , 0.06028641, 0.05961605],\n",
       "       [0.12381611, 0.        , 0.20153722, 0.02066282, 0.20528056,\n",
       "        0.12218254, 0.26967886, 0.11742257, 0.26811997, 0.01979598],\n",
       "       [0.06364565, 0.20153722, 0.        , 0.13912922, 0.45798498,\n",
       "        0.01222695, 0.10466437, 0.39439514, 0.22707166, 0.17003481],\n",
       "       [0.13391354, 0.02066282, 0.13912922, 0.        , 0.33538523,\n",
       "        0.06925479, 0.14418088, 0.08053777, 0.33597791, 0.0581763 ],\n",
       "       [0.185117  , 0.20528056, 0.45798498, 0.33538523, 0.        ,\n",
       "        0.40538647, 0.81001312, 0.61177146, 0.10710075, 0.11600404],\n",
       "       [0.06058514, 0.12218254, 0.01222695, 0.06925479, 0.40538647,\n",
       "        0.        , 0.08118661, 0.26953307, 0.24055382, 0.11331475],\n",
       "       [0.28203122, 0.26967886, 0.10466437, 0.14418088, 0.81001312,\n",
       "        0.08118661, 0.        , 0.24245492, 0.60073873, 0.32535756],\n",
       "       [0.4211865 , 0.11742257, 0.39439514, 0.08053777, 0.61177146,\n",
       "        0.26953307, 0.24245492, 0.        , 0.72443391, 0.23224728],\n",
       "       [0.06028641, 0.26811997, 0.22707166, 0.33597791, 0.10710075,\n",
       "        0.24055382, 0.60073873, 0.72443391, 0.        , 0.14345246],\n",
       "       [0.05961605, 0.01979598, 0.17003481, 0.0581763 , 0.11600404,\n",
       "        0.11331475, 0.32535756, 0.23224728, 0.14345246, 0.        ]])"
      ]
     },
     "execution_count": 6,
     "metadata": {},
     "output_type": "execute_result"
    }
   ],
   "source": [
    "dist_sq"
   ]
  },
  {
   "cell_type": "code",
   "execution_count": 7,
   "metadata": {},
   "outputs": [
    {
     "ename": "NameError",
     "evalue": "name 'X' is not defined",
     "output_type": "error",
     "traceback": [
      "\u001b[1;31m---------------------------------------------------------------------------\u001b[0m",
      "\u001b[1;31mNameError\u001b[0m                                 Traceback (most recent call last)",
      "\u001b[1;32m<ipython-input-7-92f38a15897a>\u001b[0m in \u001b[0;36m<module>\u001b[1;34m()\u001b[0m\n\u001b[1;32m----> 1\u001b[1;33m \u001b[0mX\u001b[0m \u001b[1;31m# X.shape = (10, 2)\u001b[0m\u001b[1;33m\u001b[0m\u001b[0m\n\u001b[0m\u001b[0;32m      2\u001b[0m \u001b[0ma\u001b[0m \u001b[1;33m=\u001b[0m \u001b[0mX\u001b[0m\u001b[1;33m[\u001b[0m\u001b[1;33m:\u001b[0m\u001b[1;33m,\u001b[0m \u001b[0mnp\u001b[0m\u001b[1;33m.\u001b[0m\u001b[0mnewaxis\u001b[0m\u001b[1;33m,\u001b[0m \u001b[1;33m:\u001b[0m\u001b[1;33m]\u001b[0m \u001b[1;31m# a.shape = (10, 1, 2)\u001b[0m\u001b[1;33m\u001b[0m\u001b[0m\n\u001b[0;32m      3\u001b[0m \u001b[0mb\u001b[0m \u001b[1;33m=\u001b[0m \u001b[0mX\u001b[0m\u001b[1;33m[\u001b[0m\u001b[0mnp\u001b[0m\u001b[1;33m.\u001b[0m\u001b[0mnewaxis\u001b[0m\u001b[1;33m,\u001b[0m \u001b[1;33m:\u001b[0m\u001b[1;33m,\u001b[0m \u001b[1;33m:\u001b[0m\u001b[1;33m]\u001b[0m \u001b[1;31m# b.shape = (1, 10, 2)\u001b[0m\u001b[1;33m\u001b[0m\u001b[0m\n\u001b[0;32m      4\u001b[0m \u001b[0mc\u001b[0m \u001b[1;33m=\u001b[0m \u001b[0ma\u001b[0m \u001b[1;33m-\u001b[0m \u001b[0mb\u001b[0m \u001b[1;31m# c.shape = (10, 10, 2), braodcasting\u001b[0m\u001b[1;33m\u001b[0m\u001b[0m\n\u001b[0;32m      5\u001b[0m \u001b[0md\u001b[0m \u001b[1;33m=\u001b[0m \u001b[0mc\u001b[0m\u001b[1;33m**\u001b[0m\u001b[1;36m2\u001b[0m\u001b[1;33m\u001b[0m\u001b[0m\n",
      "\u001b[1;31mNameError\u001b[0m: name 'X' is not defined"
     ]
    }
   ],
   "source": [
    "X # X.shape = (10, 2)\n",
    "a = X[:, np.newaxis, :] # a.shape = (10, 1, 2)\n",
    "b = X[np.newaxis, :, :] # b.shape = (1, 10, 2)\n",
    "c = a - b # c.shape = (10, 10, 2), braodcasting\n",
    "d = c**2\n",
    "results = np.sum(d, axis = -1) # d.shape = (10, 10), aggregation"
   ]
  },
  {
   "cell_type": "markdown",
   "metadata": {},
   "source": [
    "<font color = red> **Calculating a matrix of distance among 10 points in 2d plane** </font>\n",
    "<br>\n",
    "`dist_sq = np.sum((X[:, np.newaxis, :] - X[np.newaxis, :, :]) ** 2, axis = -1)`\n",
    "<br>\n",
    "<font color = red> **Break-down codes** </font>\n",
    "<br>&emsp; 1. `arr` # X.shape = (10, 2)\n",
    "<br>&emsp;2. `a = arr[:, np.newaxis, :]` # a.shape = (10, 1, 2)\n",
    "<br>&emsp;3. `b = arr[np.newaxis, :, :]` # b.shape = (1, 10, 2)\n",
    "<br>&emsp;4. `c = a - b` # c.shape = (10, 10, 2), braodcasting\n",
    "<br>&emsp;5. `d = c**2`\n",
    "<br>&emsp;6. `results = np.sum(d, axis = -1)` # results.shape = (10, 10), aggregation\n",
    "<br>\n",
    "<br>\n",
    "<img src = \"files/code_explain.png\" width = 600>"
   ]
  },
  {
   "cell_type": "code",
   "execution_count": null,
   "metadata": {
    "scrolled": false
   },
   "outputs": [],
   "source": [
    "X"
   ]
  },
  {
   "cell_type": "code",
   "execution_count": null,
   "metadata": {},
   "outputs": [],
   "source": [
    "a = X[:, np.newaxis, :] # X.shape = (10, 2); a.shape = (10, 1, 2)\n",
    "a.shape"
   ]
  },
  {
   "cell_type": "code",
   "execution_count": null,
   "metadata": {
    "scrolled": false
   },
   "outputs": [],
   "source": [
    "a"
   ]
  },
  {
   "cell_type": "code",
   "execution_count": null,
   "metadata": {},
   "outputs": [],
   "source": [
    "b = X[np.newaxis, :, :] # X.shape = (10, 2); b.shape = (1, 10, 2)\n",
    "b"
   ]
  },
  {
   "cell_type": "code",
   "execution_count": null,
   "metadata": {
    "scrolled": true
   },
   "outputs": [],
   "source": [
    "c = a - b \n",
    "c.shape"
   ]
  },
  {
   "cell_type": "code",
   "execution_count": null,
   "metadata": {
    "scrolled": false
   },
   "outputs": [],
   "source": [
    "c"
   ]
  },
  {
   "cell_type": "code",
   "execution_count": null,
   "metadata": {},
   "outputs": [],
   "source": [
    "d = c**2"
   ]
  },
  {
   "cell_type": "code",
   "execution_count": null,
   "metadata": {},
   "outputs": [],
   "source": [
    "results = np.sum(d, axis = -1)\n",
    "results.shape"
   ]
  },
  {
   "cell_type": "code",
   "execution_count": null,
   "metadata": {
    "scrolled": true
   },
   "outputs": [],
   "source": [
    "a = dist_sq.copy()\n",
    "r, c = dist_sq.shape\n",
    "b = np.zeros((r, c), dtype = int)"
   ]
  },
  {
   "cell_type": "code",
   "execution_count": null,
   "metadata": {},
   "outputs": [],
   "source": [
    "a"
   ]
  },
  {
   "cell_type": "code",
   "execution_count": null,
   "metadata": {},
   "outputs": [],
   "source": [
    "np.floor(0.054444 * 1000) / 1000"
   ]
  },
  {
   "cell_type": "code",
   "execution_count": null,
   "metadata": {},
   "outputs": [],
   "source": [
    "b = np.zeros_like(dist_sq)\n",
    "for i in range(10):\n",
    "    for j in range(10):\n",
    "        b[i, j] = int(np.floor(dist_sq[i, j]*1000))\n",
    "print(\"dist_sq * 1000 \\t and drop decimals\")\n",
    "b"
   ]
  },
  {
   "cell_type": "code",
   "execution_count": null,
   "metadata": {},
   "outputs": [],
   "source": [
    "nearest = np.argsort(dist_sq, axis = 1) # axis = 1 沿着列方向，也就是每一行里面做比较。\n",
    "nearest # Notice that the first column gives the numbers 0 through 9 in order\n",
    "        # This is due to the fact that each point’s closest neighbor is itself.\n",
    "        # 看对角线"
   ]
  },
  {
   "cell_type": "markdown",
   "metadata": {},
   "source": [
    "<font color = red size = 2> By using a full sort here, we’ve actually done more work than we need to in this case. If we’re simply interested in the nearest k neighbors, all we need is to partition each\n",
    "row so that the smallest k + 1 squared distances come first, with larger distances filling the remaining positions of the array. </font>"
   ]
  },
  {
   "cell_type": "code",
   "execution_count": 10,
   "metadata": {},
   "outputs": [
    {
     "data": {
      "text/plain": [
       "array([[0.        , 0.12381611, 0.06364565, 0.13391354, 0.185117  ,\n",
       "        0.06058514, 0.28203122, 0.4211865 , 0.06028641, 0.05961605],\n",
       "       [0.12381611, 0.        , 0.20153722, 0.02066282, 0.20528056,\n",
       "        0.12218254, 0.26967886, 0.11742257, 0.26811997, 0.01979598],\n",
       "       [0.06364565, 0.20153722, 0.        , 0.13912922, 0.45798498,\n",
       "        0.01222695, 0.10466437, 0.39439514, 0.22707166, 0.17003481],\n",
       "       [0.13391354, 0.02066282, 0.13912922, 0.        , 0.33538523,\n",
       "        0.06925479, 0.14418088, 0.08053777, 0.33597791, 0.0581763 ],\n",
       "       [0.185117  , 0.20528056, 0.45798498, 0.33538523, 0.        ,\n",
       "        0.40538647, 0.81001312, 0.61177146, 0.10710075, 0.11600404],\n",
       "       [0.06058514, 0.12218254, 0.01222695, 0.06925479, 0.40538647,\n",
       "        0.        , 0.08118661, 0.26953307, 0.24055382, 0.11331475],\n",
       "       [0.28203122, 0.26967886, 0.10466437, 0.14418088, 0.81001312,\n",
       "        0.08118661, 0.        , 0.24245492, 0.60073873, 0.32535756],\n",
       "       [0.4211865 , 0.11742257, 0.39439514, 0.08053777, 0.61177146,\n",
       "        0.26953307, 0.24245492, 0.        , 0.72443391, 0.23224728],\n",
       "       [0.06028641, 0.26811997, 0.22707166, 0.33597791, 0.10710075,\n",
       "        0.24055382, 0.60073873, 0.72443391, 0.        , 0.14345246],\n",
       "       [0.05961605, 0.01979598, 0.17003481, 0.0581763 , 0.11600404,\n",
       "        0.11331475, 0.32535756, 0.23224728, 0.14345246, 0.        ]])"
      ]
     },
     "execution_count": 10,
     "metadata": {},
     "output_type": "execute_result"
    }
   ],
   "source": [
    "dist_sq"
   ]
  },
  {
   "cell_type": "code",
   "execution_count": 8,
   "metadata": {},
   "outputs": [
    {
     "data": {
      "text/plain": [
       "array([[0, 9, 8, 5, 2, 3, 6, 7, 1, 4],\n",
       "       [3, 1, 9, 7, 5, 0, 6, 2, 8, 4],\n",
       "       [2, 5, 0, 6, 3, 9, 1, 7, 8, 4],\n",
       "       [3, 1, 9, 5, 7, 0, 6, 2, 8, 4],\n",
       "       [8, 4, 9, 0, 1, 3, 5, 7, 2, 6],\n",
       "       [5, 2, 0, 3, 6, 9, 1, 7, 8, 4],\n",
       "       [5, 6, 2, 3, 1, 0, 7, 9, 8, 4],\n",
       "       [7, 3, 1, 9, 6, 5, 2, 0, 8, 4],\n",
       "       [8, 0, 4, 9, 2, 5, 1, 3, 7, 6],\n",
       "       [3, 9, 1, 0, 2, 5, 6, 7, 8, 4]], dtype=int64)"
      ]
     },
     "execution_count": 8,
     "metadata": {},
     "output_type": "execute_result"
    }
   ],
   "source": [
    "K = 2\n",
    "nearest_partition = np.argpartition(dist_sq, K + 1, axis=1)\n",
    "nearest_partition"
   ]
  },
  {
   "cell_type": "code",
   "execution_count": 9,
   "metadata": {},
   "outputs": [
    {
     "data": {
      "image/png": "[encoded data removed]",
      "text/plain": [
       "<matplotlib.figure.Figure at 0xb79d470>"
      ]
     },
     "metadata": {},
     "output_type": "display_data"
    }
   ],
   "source": [
    "plt.clf()\n",
    "X = arr.copy()\n",
    "plt.scatter(X[:, 0], X[:, 1], s=100)\n",
    "# draw lines from each point to its two nearest neighbors\n",
    "K = 2\n",
    "for i in range(X.shape[0]):\n",
    "    for j in nearest_partition[i, :K+1]:\n",
    "    # plot a line from X[i] to X[j]\n",
    "    # use some zip magic to make it happen:\n",
    "        plt.plot(*zip(X[j], X[i]), color='black') \n",
    "plt.show()\n",
    "# some of the points have more than two lines coming out of them: \n",
    "# this is due to the fact that if point A is one of the two nearest neighbors of point B, \n",
    "# this does not necessarily imply that point B is one of the two nearest neighbors of point A."
   ]
  },
  {
   "cell_type": "markdown",
   "metadata": {},
   "source": [
    "### <font color = blue> Structured Data: NumPy's Structured Arrays </font>\n",
    "> - NumPy's *structured arrays* and *record arrays* provide efficient storage for compound, heterogeneous data.\n",
    "> - Pandas DataFrame object, a structure built on NumPy arrays"
   ]
  },
  {
   "cell_type": "code",
   "execution_count": null,
   "metadata": {},
   "outputs": [],
   "source": [
    "name = ['Alice', 'Bob', 'Cathy', 'Doug']\n",
    "age = [25, 45, 37, 19]\n",
    "weight = [55.0, 85.5, 68.0, 61.5]\n",
    "# There’s nothing here that tells us that the three arrays are related; \n",
    "# it would be more natural if we could use a single structure to store all of this data. \n",
    "# NumPy can handle this through structured arrays, which are arrays with compound data types."
   ]
  },
  {
   "cell_type": "code",
   "execution_count": null,
   "metadata": {},
   "outputs": [],
   "source": [
    "# Compound data type\n",
    "# Use a compound data type for structured arrays\n",
    "data = np.zeros(4, dtype={'names':('name', 'age', 'weight'),\n",
    "                          'formats':('U10', 'i4', 'f8')})\n",
    "# 'U10': Uniconde string of maximum length 10\n",
    "# 'i4': 4-byte (i.e., 32 bit) integer\n",
    "# 'f8': 8-byte (i.e., 64 bit) float\n",
    "print(data.dtype)"
   ]
  },
  {
   "cell_type": "code",
   "execution_count": null,
   "metadata": {},
   "outputs": [],
   "source": [
    "data"
   ]
  },
  {
   "cell_type": "code",
   "execution_count": null,
   "metadata": {},
   "outputs": [],
   "source": [
    "data['name'] = name\n",
    "data['age'] = age\n",
    "data['weight'] = weight\n",
    "data\n",
    "# Data is now arranged together in one convenient block of memory"
   ]
  },
  {
   "cell_type": "code",
   "execution_count": null,
   "metadata": {},
   "outputs": [],
   "source": [
    "# Get all names\n",
    "data['name']"
   ]
  },
  {
   "cell_type": "code",
   "execution_count": null,
   "metadata": {},
   "outputs": [],
   "source": [
    "# Get first row of data\n",
    "data[0]"
   ]
  },
  {
   "cell_type": "code",
   "execution_count": null,
   "metadata": {},
   "outputs": [],
   "source": [
    "# Get the name from the last row\n",
    "data[-1]['name']"
   ]
  },
  {
   "cell_type": "code",
   "execution_count": null,
   "metadata": {},
   "outputs": [],
   "source": [
    "# Using Boolean masking. Get names where age is under 30\n",
    "data[data['age'] < 30]['name']"
   ]
  },
  {
   "cell_type": "markdown",
   "metadata": {},
   "source": [
    "#### <font color = blue> Creating Structured Arrays </font>\n",
    "> - Structured array data types can be specified in a number of ways"
   ]
  },
  {
   "cell_type": "code",
   "execution_count": null,
   "metadata": {},
   "outputs": [],
   "source": [
    "# the dictionary method:\n",
    "np.dtype({'names':('name', 'age', 'weight'),\n",
    "          'formats':('U10', 'i4', 'f8')})"
   ]
  },
  {
   "cell_type": "code",
   "execution_count": null,
   "metadata": {},
   "outputs": [],
   "source": [
    "# numerical types can be specified with Python types or NumPy dtypes\n",
    "np.dtype({'names':('name', 'age', 'weight'),\n",
    "          'formats':((np.str_, 10), int, np.float32)})"
   ]
  },
  {
   "cell_type": "code",
   "execution_count": null,
   "metadata": {},
   "outputs": [],
   "source": [
    "# a list of tuples"
   ]
  },
  {
   "cell_type": "code",
   "execution_count": null,
   "metadata": {},
   "outputs": [],
   "source": [
    "np.dtype([('name', 'S10'), ('age', 'i4'), ('weight', 'f8')])"
   ]
  },
  {
   "cell_type": "code",
   "execution_count": null,
   "metadata": {},
   "outputs": [],
   "source": [
    "# If the names of the types do not matter to you, you can specify the types alone\n",
    "# in a comma-separated string:\n",
    "np.dtype('S10, i4, f8')\n",
    "# The first (optional) character is < or >, which means “little endian” or \n",
    "# “big endian,” respectively, and specifies the ordering convention for significant bits."
   ]
  },
  {
   "cell_type": "markdown",
   "metadata": {},
   "source": [
    "<img src = \"files/NumPy_DataType.PNG\" width = 400>"
   ]
  },
  {
   "cell_type": "markdown",
   "metadata": {},
   "source": [
    "#### <font color = blue> More Advanced Compound Types </font>"
   ]
  },
  {
   "cell_type": "code",
   "execution_count": null,
   "metadata": {
    "scrolled": true
   },
   "outputs": [],
   "source": [
    "# a data type with a mat compnent consisting of a 3 x 3 floating-point matrix.\n",
    "# each element in the X array consists of an id and a 3×3 matrix\n",
    "tp = np.dtype([('id', 'i8'), ('mat', 'f8', (3, 3))])\n",
    "X = np.zeros(1, dtype=tp)\n",
    "print(X[0])\n",
    "print(X['mat'][0])"
   ]
  },
  {
   "cell_type": "markdown",
   "metadata": {},
   "source": [
    "#### <font color = blue> RecordArrays: Structured Arrays with a Twist </font>"
   ]
  },
  {
   "cell_type": "code",
   "execution_count": null,
   "metadata": {},
   "outputs": [],
   "source": [
    "np.recarray?"
   ]
  },
  {
   "cell_type": "code",
   "execution_count": null,
   "metadata": {},
   "outputs": [],
   "source": [
    "data['age']"
   ]
  },
  {
   "cell_type": "code",
   "execution_count": null,
   "metadata": {},
   "outputs": [],
   "source": [
    "data_rec = data.view(np.recarray)\n",
    "data_rec.age"
   ]
  },
  {
   "cell_type": "code",
   "execution_count": null,
   "metadata": {},
   "outputs": [],
   "source": [
    "%timeit data['age']\n",
    "%timeit data_rec['age']\n",
    "%timeit data_rec.age"
   ]
  },
  {
   "cell_type": "code",
   "execution_count": null,
   "metadata": {},
   "outputs": [],
   "source": []
  },
  {
   "cell_type": "code",
   "execution_count": null,
   "metadata": {},
   "outputs": [],
   "source": []
  },
  {
   "cell_type": "code",
   "execution_count": null,
   "metadata": {},
   "outputs": [],
   "source": []
  }
 ],
 "metadata": {
  "kernelspec": {
   "display_name": "Python 3",
   "language": "python",
   "name": "python3"
  },
  "language_info": {
   "codemirror_mode": {
    "name": "ipython",
    "version": 3
   },
   "file_extension": ".py",
   "mimetype": "text/x-python",
   "name": "python",
   "nbconvert_exporter": "python",
   "pygments_lexer": "ipython3",
   "version": "3.6.4"
  }
 },
 "nbformat": 4,
 "nbformat_minor": 2
}
