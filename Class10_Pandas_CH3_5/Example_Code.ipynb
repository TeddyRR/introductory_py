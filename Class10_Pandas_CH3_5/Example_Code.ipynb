{
 "cells": [
  {
   "cell_type": "markdown",
   "metadata": {},
   "source": [
    "# US States Data\n",
    "\n",
    "## Rank US states and territoris by their 2010 population density"
   ]
  },
  {
   "cell_type": "code",
   "execution_count": null,
   "metadata": {},
   "outputs": [],
   "source": [
    "import pandas as pd"
   ]
  },
  {
   "cell_type": "code",
   "execution_count": null,
   "metadata": {},
   "outputs": [],
   "source": [
    "# Download the data\n",
    "!curl -O https://raw.githubusercontent.com/jakevdp/data-USstates/master/state-population.csv\n",
    "!curl -O https://raw.githubusercontent.com/jakevdp/data-USstates/master/state-areas.csv\n",
    "!curl -O https://raw.githubusercontent.com/jakevdp/data-USstates/master/state-abbrevs.csv\n"
   ]
  },
  {
   "cell_type": "code",
   "execution_count": 46,
   "metadata": {},
   "outputs": [],
   "source": [
    "# Read data as DataFrames\n",
    "pop = pd.read_csv('state-population.csv')\n",
    "areas = pd.read_csv('state-areas.csv')\n",
    "abbrevs = pd.read_csv('state-abbrevs.csv')\n",
    "\n",
    "# Outer join to make sure no data is thrown away due to mismatched labels\n",
    "merged = pd.merge(pop, abbrevs, how = 'outer',\n",
    "                 left_on = 'state/region', right_on = 'abbreviation')\n",
    "\n",
    "# drop duplicate info\n",
    "merged = merged.drop('abbreviation', 1) \n",
    "\n",
    "# check null\n",
    "merged.isnull().any()\n",
    "\n",
    "merged[ merged['population'].isnull() ]\n",
    "# all the null population values are from Puerto Rico prior to the year 2000;\n",
    "\n",
    "# some of the new state entries are also null, \n",
    "# which means that there was no corresponding entry in the abbrevs key! \n",
    "# Let’s figure out which regions lack this match\n",
    "merged.loc[merged['state'].isnull(), 'state/region'].unique()\n",
    "\n",
    "# fix these by filling in appropriate entries\n",
    "merged.loc[merged['state/region'] == 'PR', 'state'] = 'Puerto Rico'\n",
    "merged.loc[merged['state/region'] == 'USA', 'state'] = 'United States'\n",
    "\n",
    "# Join the areas df\n",
    "final = pd.merge(merged, areas, on = 'state', how = 'left')\n",
    "\n",
    "# Check null\n",
    "final.isnull().any()\n",
    "\n",
    "final['state'][final['area (sq. mi)'].isnull()].unique()\n",
    "# areas DataFrame does not contain the area of the United States as a whole.\n",
    "\n",
    "# using the sum of all state areas\n",
    "usarea = final['area (sq. mi)'].dropna().unique().sum()\n",
    "\n",
    "# fill in the total area\n",
    "a = final.loc[:, 'area (sq. mi)'][final['area (sq. mi)'].isnull()].fillna(usarea, inplace = True)\n",
    "\n",
    "# let’s first select the portion of the data \n",
    "# corresponding with the year 2000, and the total population\n",
    "data2010 = final.query(\"year == 2010 & ages == 'total'\")\n",
    "\n",
    "# compute the population density \n",
    "data2010.set_index('state', inplace = True)\n",
    "density = data2010['population'] / data2010['area (sq. mi)']\n",
    "\n",
    "# display it in order\n",
    "density.sort_values(ascending = False, inplace = True)"
   ]
  }
 ],
 "metadata": {
  "kernelspec": {
   "display_name": "Python 3",
   "language": "python",
   "name": "python3"
  },
  "language_info": {
   "codemirror_mode": {
    "name": "ipython",
    "version": 3
   },
   "file_extension": ".py",
   "mimetype": "text/x-python",
   "name": "python",
   "nbconvert_exporter": "python",
   "pygments_lexer": "ipython3",
   "version": "3.6.4"
  }
 },
 "nbformat": 4,
 "nbformat_minor": 2
}
