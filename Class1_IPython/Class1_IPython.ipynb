{
 "cells": [
  {
   "cell_type": "markdown",
   "metadata": {},
   "source": [
    "### <font color = blue> Accessing Documentation with ? </font>\n",
    "\n",
    "> - <font color=blue>Every Python object contains the reference to a string, known as a docstring, which in most cases will contain a concise summary of the object and how to use it. Python build-in help() function. </font>\n",
    "> - <font color = blue> IPython introduces the ? character as a shorthand for accessing this documentation and other relevant\n",
    "information. </font>\n",
    "> - <font color = blue> Apply to object method as well. </font>\n",
    "> - <font color = blue> Or even the object itself. </font>\n",
    "> - <font color = blue> Importantly, this will even work for functions or other objects you create yourself. </font>\n",
    ">    <font color = blue> To create a docstring for our function, we simply placed a string literal in the first line. </font>\n",
    ">    <font color = blue> Because docstrings are usually multiple lines, by conventoin we used triple-quote notation. </font>"
   ]
  },
  {
   "cell_type": "code",
   "execution_count": null,
   "metadata": {
    "scrolled": false
   },
   "outputs": [],
   "source": [
    "help(len)"
   ]
  },
  {
   "cell_type": "code",
   "execution_count": null,
   "metadata": {},
   "outputs": [],
   "source": [
    "len??"
   ]
  },
  {
   "cell_type": "code",
   "execution_count": null,
   "metadata": {},
   "outputs": [],
   "source": [
    "L = [1, 2, 3]"
   ]
  },
  {
   "cell_type": "code",
   "execution_count": null,
   "metadata": {},
   "outputs": [],
   "source": [
    "L?"
   ]
  },
  {
   "cell_type": "code",
   "execution_count": null,
   "metadata": {
    "scrolled": false
   },
   "outputs": [],
   "source": [
    "dir(L)"
   ]
  },
  {
   "cell_type": "code",
   "execution_count": null,
   "metadata": {},
   "outputs": [],
   "source": [
    "L?"
   ]
  },
  {
   "cell_type": "code",
   "execution_count": null,
   "metadata": {},
   "outputs": [],
   "source": [
    "def square(a):\n",
    "    \"\"\"Return the square of a.\"\"\"   #docstring\n",
    "    return a**2"
   ]
  },
  {
   "cell_type": "code",
   "execution_count": null,
   "metadata": {},
   "outputs": [],
   "source": [
    "square??"
   ]
  },
  {
   "cell_type": "markdown",
   "metadata": {},
   "source": [
    "### <font color = blue> Accessing Source Code with ??"
   ]
  },
  {
   "cell_type": "code",
   "execution_count": null,
   "metadata": {},
   "outputs": [],
   "source": [
    "square??"
   ]
  },
  {
   "cell_type": "code",
   "execution_count": null,
   "metadata": {},
   "outputs": [],
   "source": [
    "%matplotlib inline\n",
    "import matplotlib.pyplot as plt\n",
    "import nanoscope as ns\n",
    "import numpy as np\n",
    "from nanoscope import files\n",
    "from nanoscope.constants import FORCE, METRIC, VOLTS, PLT_kwargs"
   ]
  },
  {
   "cell_type": "code",
   "execution_count": null,
   "metadata": {
    "scrolled": false
   },
   "outputs": [],
   "source": [
    "import nanoscope."
   ]
  },
  {
   "cell_type": "markdown",
   "metadata": {},
   "source": [
    "### <font color = blue> Exploring Modules with Tab Completion </font>\n",
    "\n",
    "\n",
    "> <font color = blue> The use of the Tab key for autocompletion and exploration of the contents of objects, modules, and namespaces </font>\n",
    "\n",
    "#### <font color = blue> Tab completion of object contents </font>\n",
    "> - <font color = blue> L.append, L.clear, L.copy, L.count, L.extend, L.index, L.insert, L.pop, L.remove, L.reverse, L.sort </font>\n",
    "> - <font color = blue> If there is only a single option, pressing the Tab key will complete the line for you. </font>\n",
    "> - <font color = blue> Though Python has no strictly enforced distinction between public/external attributes and private/internal attributes, by convention a preceding underscore is used to denote such methods. For clarity, these private methods and special methods are omitted from the list by default, but it’s possible to list them by explicitly typing the underscore: L._TAB.   '\\__add__', double-underscore methods (\"dunder\" methods). </font>\n",
    "\n",
    "#### <font color = blue> Tab completion when importing </font>\n",
    "\n",
    "#### <font color = blue> Beyond tab completion: Wildcard matching </font>\n",
    "> - <font color = blue> Wildcard matching for names using the * character, which matches any string, including the empty string. </font>"
   ]
  },
  {
   "cell_type": "code",
   "execution_count": null,
   "metadata": {},
   "outputs": [],
   "source": [
    "L = [1, 2, 3]\n",
    "L.insert(3, 2)\n",
    "L"
   ]
  },
  {
   "cell_type": "code",
   "execution_count": null,
   "metadata": {},
   "outputs": [],
   "source": [
    "a = list(range(5))\n",
    "a"
   ]
  },
  {
   "cell_type": "code",
   "execution_count": null,
   "metadata": {},
   "outputs": [],
   "source": [
    "b = list(range(3))\n",
    "b."
   ]
  },
  {
   "cell_type": "code",
   "execution_count": null,
   "metadata": {},
   "outputs": [],
   "source": [
    "a = L.copy()"
   ]
  },
  {
   "cell_type": "code",
   "execution_count": null,
   "metadata": {},
   "outputs": [],
   "source": [
    "a.__add__([3.1])"
   ]
  },
  {
   "cell_type": "code",
   "execution_count": null,
   "metadata": {},
   "outputs": [],
   "source": [
    "*Error?"
   ]
  },
  {
   "cell_type": "code",
   "execution_count": null,
   "metadata": {},
   "outputs": [],
   "source": [
    "str.*fi*?"
   ]
  },
  {
   "cell_type": "markdown",
   "metadata": {},
   "source": [
    "### <font color = blue> Keyboad Shortcuts in the IPython Shell </font>\n",
    "#### <font color = blue> Naviagion Shortcut </font>\n",
    "### <font color = blue> IPython Magic Commands </font>\n",
    "#### <font color = blue> Running External Code: %run </font>\n",
    "#### <font color = blue> Timing Code Execution: %timeit </font>\n",
    "> - <font color = blue> Automatically determine the execution time of the single-line Python statement that follows it </font>\n",
    "> - <font color = blue> Adding a 2nd % sign turns this into a cell magic and can handle multiple lines of input. </font>\n",
    "#### <font color = blue> Help on Magic Functions: ?, %magic, and %lsmagic </font>"
   ]
  },
  {
   "cell_type": "code",
   "execution_count": null,
   "metadata": {},
   "outputs": [],
   "source": [
    "%run C:\\Users\\Teddy.Huang\\Desktop\\class\\Class1_IPython\\helloworld2.py"
   ]
  },
  {
   "cell_type": "code",
   "execution_count": null,
   "metadata": {},
   "outputs": [],
   "source": [
    "import helloworld\n",
    "helloworld??"
   ]
  },
  {
   "cell_type": "code",
   "execution_count": null,
   "metadata": {},
   "outputs": [],
   "source": [
    "%timeit L = [n**3 for n in range(10000)]  # list comprehension, more efficient"
   ]
  },
  {
   "cell_type": "code",
   "execution_count": null,
   "metadata": {},
   "outputs": [],
   "source": [
    "%%timeit\n",
    "L = []\n",
    "for n in range(10000):\n",
    "    L.append(n ** 3)"
   ]
  },
  {
   "cell_type": "code",
   "execution_count": null,
   "metadata": {},
   "outputs": [],
   "source": [
    "%timeit?"
   ]
  },
  {
   "cell_type": "code",
   "execution_count": null,
   "metadata": {},
   "outputs": [],
   "source": [
    "%magic"
   ]
  },
  {
   "cell_type": "code",
   "execution_count": null,
   "metadata": {},
   "outputs": [],
   "source": [
    "%lsmagic"
   ]
  },
  {
   "cell_type": "markdown",
   "metadata": {},
   "source": [
    "### <font color = blue> Input and Output History </font>\n",
    "#### <font color = blue> IPython's In and Out Objects </font>\n",
    "> -  <font color = blue> The In object is a list, which keeps track of the commands in order. <mark>* the first item in the list is a placeholder so that In[1] can refer to the first command. *<mark> </font> \n",
    "> - <font color = blue> The Out object is not a list but a dictionary mapping input numbers to their outputs. </font>\n",
    "> - <font color = blue> import statements and print statements don't affect the output. </font>\n",
    "\n",
    "#### <font color = blue> Underscore Shortcuts and Previous Outputs </font>\n",
    "> - <font color = blue> '_' previous output </font>\n",
    "> - <font color = blue> '__' second-to-last output </font>\n",
    "> - <font color = blue> '___' third-to-last output </font>\n",
    "> - <font color = blue> _x is shorthand for Out[x] </font>\n",
    "\n",
    "#### <font color = blue> Suppressing Output </font>\n",
    "> - <font color = blue> The easiest way is to add a \";\". The output is neight displayed on the screen or stroed in the Out dictionary. </font>\n",
    "\n",
    "#### <font color = blue> Related Magic Commands </font>\n",
    "> - <font color = blue> %history, %rerun, %save </font>"
   ]
  },
  {
   "cell_type": "code",
   "execution_count": null,
   "metadata": {
    "scrolled": true
   },
   "outputs": [],
   "source": [
    "print(In)"
   ]
  },
  {
   "cell_type": "code",
   "execution_count": null,
   "metadata": {},
   "outputs": [],
   "source": [
    "Out"
   ]
  },
  {
   "cell_type": "code",
   "execution_count": null,
   "metadata": {},
   "outputs": [],
   "source": [
    "import math"
   ]
  },
  {
   "cell_type": "code",
   "execution_count": null,
   "metadata": {},
   "outputs": [],
   "source": [
    "math.sin(2)"
   ]
  },
  {
   "cell_type": "code",
   "execution_count": null,
   "metadata": {},
   "outputs": [],
   "source": [
    "math.cos(2)"
   ]
  },
  {
   "cell_type": "code",
   "execution_count": null,
   "metadata": {},
   "outputs": [],
   "source": [
    "Out[2]**2 + Out[3]**2"
   ]
  },
  {
   "cell_type": "code",
   "execution_count": null,
   "metadata": {},
   "outputs": [],
   "source": [
    "Out.items()"
   ]
  },
  {
   "cell_type": "code",
   "execution_count": null,
   "metadata": {},
   "outputs": [],
   "source": [
    "Out[4]"
   ]
  },
  {
   "cell_type": "code",
   "execution_count": null,
   "metadata": {
    "scrolled": true
   },
   "outputs": [],
   "source": [
    "print(In[17:20])\n",
    "Out"
   ]
  },
  {
   "cell_type": "code",
   "execution_count": null,
   "metadata": {},
   "outputs": [],
   "source": [
    "Out.keys()"
   ]
  },
  {
   "cell_type": "code",
   "execution_count": null,
   "metadata": {
    "scrolled": true
   },
   "outputs": [],
   "source": [
    "[print(Out[i]) for i in Out.keys()]"
   ]
  },
  {
   "cell_type": "code",
   "execution_count": null,
   "metadata": {},
   "outputs": [],
   "source": [
    "Out[43] ** 2 + Out[44] ** 2;"
   ]
  },
  {
   "cell_type": "code",
   "execution_count": null,
   "metadata": {},
   "outputs": [],
   "source": [
    "print(_);\n",
    "print(__);\n",
    "print(___);"
   ]
  },
  {
   "cell_type": "code",
   "execution_count": null,
   "metadata": {},
   "outputs": [],
   "source": [
    "62 in Out"
   ]
  },
  {
   "cell_type": "code",
   "execution_count": null,
   "metadata": {
    "scrolled": true
   },
   "outputs": [],
   "source": [
    "%history -n 40-60"
   ]
  },
  {
   "cell_type": "markdown",
   "metadata": {},
   "source": [
    "### Ipython and Shell Commands\n",
    "#### <font color = blue> Quick Introduction to the Shell </font>\n",
    "> - <font color = blue> echo: print </font>\n",
    "> - <font color = blue> pwd: print working directory</font>\n",
    "> - <font color = blue> ls: list working directory content</font>\n",
    "> - <font color = blue> cd: change directory</font>\n",
    "> - <font color = blue> mkdir: make new directory</font>\n",
    "> - <font color = blue> mv: move file</font>\n",
    "\n",
    "#### <font color = blue> Shell Commands in IPython </font>\n",
    "\n",
    "#### <font color = blue> Passing Values to and from the Shell </font>\n",
    "\n",
    "#### <font color = blue> Shell-Related Magic Commands </font>\n",
    "> - <font color = blue> %cd, %cat, %cp, %env, %ls, %man, %mkdir, %more, %mv, %pwd, %rm, and %rmdir can be used without the % sign. This is knonw as an automagic function, and this behavior can be toggled with the %automagic magic function. </font>"
   ]
  },
  {
   "cell_type": "code",
   "execution_count": null,
   "metadata": {},
   "outputs": [],
   "source": [
    "cd .."
   ]
  },
  {
   "cell_type": "code",
   "execution_count": null,
   "metadata": {},
   "outputs": [],
   "source": [
    "pwd"
   ]
  },
  {
   "cell_type": "code",
   "execution_count": null,
   "metadata": {},
   "outputs": [],
   "source": [
    "echo \"he\""
   ]
  },
  {
   "cell_type": "code",
   "execution_count": null,
   "metadata": {},
   "outputs": [],
   "source": [
    "mkdir mycode"
   ]
  },
  {
   "cell_type": "code",
   "execution_count": null,
   "metadata": {},
   "outputs": [],
   "source": [
    "cd mycode"
   ]
  },
  {
   "cell_type": "code",
   "execution_count": null,
   "metadata": {},
   "outputs": [],
   "source": [
    "cd .."
   ]
  },
  {
   "cell_type": "code",
   "execution_count": null,
   "metadata": {},
   "outputs": [],
   "source": [
    "directory = %pwd"
   ]
  },
  {
   "cell_type": "code",
   "execution_count": null,
   "metadata": {},
   "outputs": [],
   "source": [
    "directory"
   ]
  },
  {
   "cell_type": "code",
   "execution_count": null,
   "metadata": {},
   "outputs": [],
   "source": [
    "cp /helloworld2.py mycode/"
   ]
  },
  {
   "cell_type": "markdown",
   "metadata": {},
   "source": [
    "### <font color = blue> Errors and Debugging </font>\n",
    "#### <font color = blue> Controlling Exceptions: %xmode </font>\n",
    "> - <font color = blue> %xmode change what information to be printed </font>\n",
    "> - <font color = blue> %xmode takes a single argument, the mode, and there are three possibilities: Plain, Context(default), and Verbose. </font>\n",
    "\n",
    "#### <font color = blue> Debugging: When Reading Tracebacks Is Not Enough </font>\n",
    "> - <font color = blue> ipdb: IPython debugger </font>\n",
    "> - <font color = blue> %debug magic command: if you call it after hitting an exception, it will automatically open an interactive debugging prompt at the point of the exception. </font>\n",
    "> - <font color = blue> If you'd like the debugger to launch automatically whenever an exception is raised, you can use the %pdf magic function. </font>\n",
    "> - <font color = blue> if you have a script that you’d like to run from the beginning in interactive mode, you can run it with the command %run -d, and use the next command to step through the lines of code interactively. </font>\n",
    "\n",
    "#### <font color = blue> Partial List of Debugging Commands </font>\n",
    "<img src=\"files/debugging_commands.PNG\" width = \"300\">"
   ]
  },
  {
   "cell_type": "code",
   "execution_count": null,
   "metadata": {},
   "outputs": [],
   "source": [
    "def func1(a,b):\n",
    "    return a / b\n",
    "\n",
    "def func2(x):\n",
    "    a = x\n",
    "    b = x - 1\n",
    "    return func1(a,b)"
   ]
  },
  {
   "cell_type": "code",
   "execution_count": null,
   "metadata": {
    "scrolled": true
   },
   "outputs": [],
   "source": [
    "%xmode Verbose\n",
    "func2(1)"
   ]
  },
  {
   "cell_type": "code",
   "execution_count": null,
   "metadata": {
    "scrolled": false
   },
   "outputs": [],
   "source": [
    "%xmode Plain\n",
    "%pdb on\n",
    "func2(1)"
   ]
  },
  {
   "cell_type": "code",
   "execution_count": null,
   "metadata": {},
   "outputs": [],
   "source": []
  },
  {
   "cell_type": "code",
   "execution_count": null,
   "metadata": {
    "scrolled": false
   },
   "outputs": [],
   "source": [
    "%debug"
   ]
  },
  {
   "cell_type": "code",
   "execution_count": null,
   "metadata": {
    "scrolled": true
   },
   "outputs": [],
   "source": [
    "%run -d helloworld.py"
   ]
  },
  {
   "cell_type": "markdown",
   "metadata": {},
   "source": [
    "### <font color = blue> Profiling and Timing Code </font>\n",
    "<img src=\"files/time_profile.PNG\" width = \"400\">\n",
    "\n",
    "#### <font color = blue> Timing Code Snippets: %timeit and %time </font>\n",
    "> - <font color = blue> For slower commands, %%timeit will automatially adjust and perform fewer repetitions </font>\n",
    "> - <font color = blue> %timeit does some clever things under the hood to prevent sys calls from intefering with the timing. %timeit results are usually noticeable faster than %time results </font>\n",
    "> - <font color = blue> For %time as %timeit, using the %% cell-magic syntax allows timing of multiline scripts.</font>\n",
    "\n",
    "#### <font color = blue> Profiling Full Scripts: %prun </font>\n",
    "\n",
    "#### <font color = blue> Line-by-Line Profiling with %lprun </font>\n",
    "\n",
    "#### <font color = blue> Profiling Memory Use: %memit and %mprun </font>\n",
    "> - <font color = blue> The %memit magic offers a memory-measuring equivalent of %timeit </font>\n",
    "> - <font color = blue> The %mprun function offers a memory-measuring equivalent of %lprun. This magic works only for functions defined in separate modules </font>"
   ]
  },
  {
   "cell_type": "code",
   "execution_count": null,
   "metadata": {},
   "outputs": [],
   "source": [
    "%timeit sum(range(100))"
   ]
  },
  {
   "cell_type": "code",
   "execution_count": null,
   "metadata": {},
   "outputs": [],
   "source": [
    "%%timeit\n",
    "total = 0\n",
    "for i in range(1000):\n",
    "    for j in range(1000):\n",
    "        total += i * (-1) ** j"
   ]
  },
  {
   "cell_type": "code",
   "execution_count": null,
   "metadata": {},
   "outputs": [],
   "source": [
    "import random\n",
    "random.random()"
   ]
  },
  {
   "cell_type": "code",
   "execution_count": null,
   "metadata": {},
   "outputs": [],
   "source": [
    "import random\n",
    "L = [random.random() for i in range(100000)]\n",
    "%timeit L.sort()"
   ]
  },
  {
   "cell_type": "code",
   "execution_count": null,
   "metadata": {},
   "outputs": [],
   "source": [
    "L = [random.random() for i in range(100000)]\n",
    "%time L.sort()"
   ]
  },
  {
   "cell_type": "code",
   "execution_count": null,
   "metadata": {},
   "outputs": [],
   "source": [
    "%time L.sort()"
   ]
  },
  {
   "cell_type": "code",
   "execution_count": null,
   "metadata": {},
   "outputs": [],
   "source": [
    "%%time\n",
    "total = 0\n",
    "for i in range(1000):\n",
    "    for j in range(1000):\n",
    "        total += i * (-1) ** j\n",
    "        "
   ]
  },
  {
   "cell_type": "code",
   "execution_count": null,
   "metadata": {},
   "outputs": [],
   "source": [
    "def sum_of_lists(N):\n",
    "    total = 0\n",
    "    for i in range(5):\n",
    "        L = [j ^ (j >> i) for j in range(N)]\n",
    "        total += sum(L)\n",
    "    return total"
   ]
  },
  {
   "cell_type": "code",
   "execution_count": null,
   "metadata": {},
   "outputs": [],
   "source": [
    "2**3"
   ]
  },
  {
   "cell_type": "code",
   "execution_count": null,
   "metadata": {},
   "outputs": [],
   "source": [
    "%prun sum_of_lists(1000000)"
   ]
  },
  {
   "cell_type": "code",
   "execution_count": null,
   "metadata": {},
   "outputs": [],
   "source": [
    "%load_ext line_profiler"
   ]
  },
  {
   "cell_type": "code",
   "execution_count": null,
   "metadata": {},
   "outputs": [],
   "source": [
    "%lprun -f sum_of_lists sum_of_lists(5000)"
   ]
  },
  {
   "cell_type": "code",
   "execution_count": 3,
   "metadata": {},
   "outputs": [],
   "source": [
    "%load_ext memory_profiler"
   ]
  },
  {
   "cell_type": "code",
   "execution_count": null,
   "metadata": {},
   "outputs": [],
   "source": [
    "%memit sum_of_lists(1000000)"
   ]
  },
  {
   "cell_type": "code",
   "execution_count": 4,
   "metadata": {},
   "outputs": [
    {
     "name": "stdout",
     "output_type": "stream",
     "text": [
      "Overwriting mprun_demo.py\n"
     ]
    }
   ],
   "source": [
    "%%file mprun_demo.py\n",
    "def sum_of_lists(N):\n",
    "    total = 0\n",
    "    for i in range(5):\n",
    "        L = [j ^ (j >> i) for j in range(N)]\n",
    "        total += sum(L)\n",
    "    return total"
   ]
  },
  {
   "cell_type": "code",
   "execution_count": 6,
   "metadata": {},
   "outputs": [
    {
     "name": "stdout",
     "output_type": "stream",
     "text": [
      "('',)\n"
     ]
    }
   ],
   "source": [
    "from mprun_demo import sum_of_lists\n",
    "%mprun -f sum_of_lists sum_of_lists(10000)"
   ]
  }
 ],
 "metadata": {
  "kernelspec": {
   "display_name": "Python 2",
   "language": "python",
   "name": "python2"
  },
  "language_info": {
   "codemirror_mode": {
    "name": "ipython",
    "version": 2
   },
   "file_extension": ".py",
   "mimetype": "text/x-python",
   "name": "python",
   "nbconvert_exporter": "python",
   "pygments_lexer": "ipython2",
   "version": "2.7.15"
  }
 },
 "nbformat": 4,
 "nbformat_minor": 2
}
