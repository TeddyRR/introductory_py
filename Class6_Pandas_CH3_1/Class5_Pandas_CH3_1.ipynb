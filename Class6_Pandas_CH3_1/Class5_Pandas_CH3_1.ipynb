{
 "cells": [
  {
   "cell_type": "markdown",
   "metadata": {},
   "source": [
    "## Data Manipulation with Pandas\n",
    "> - Pandas is built on NumPy\n",
    "> - Pandas provides an efficient implementation of ***DataFrame***.\n",
    "> - ***DataFrames*** are essentially multidimensional arrays with attached row and column labels, and often with heterogeneous types and/or missing data.\n",
    "> - Pandas implements a number of powerful data operations familiar to users of both database frameworks and spreadsheet programs, as well as offering a convinient storage interface for labeled data.\n",
    "\n",
    "<font color = red size = 2> NumPy's ndarray data structure provides essential features for the type of clean, well-organized data typically seen in numerical computing tasks. \n",
    "* Its limitations become clear when we need more flexibility\n",
    "    * attaching labels to data\n",
    "    * working with missing data\n",
    "    * when attemping operations that do not map well to element-wise broadcasting (groupings, pivots, etc.)"
   ]
  },
  {
   "cell_type": "code",
   "execution_count": 1,
   "metadata": {},
   "outputs": [],
   "source": [
    "import numpy as np\n",
    "import pandas as pd"
   ]
  },
  {
   "cell_type": "code",
   "execution_count": 2,
   "metadata": {},
   "outputs": [],
   "source": [
    "pd_list = dir(pd)\n",
    "series_list = dir(pd.Series)\n",
    "df_list = dir(pd.DataFrame)\n",
    "\n",
    "with open('pd_list.txt', 'w') as f_obj:\n",
    "    for i in range(len(pd_list)):\n",
    "        f_obj.write((pd_list[i] +\"\\n\"))\n",
    "\n",
    "with open('series_list.txt', 'w') as f_obj:\n",
    "    for i in range(len(series_list)):\n",
    "        f_obj.write((series_list[i] +\"\\n\"))\n",
    "  \n",
    "with open('df_list.txt', 'w') as f_obj:\n",
    "    for i in range(len(df_list)):\n",
    "        f_obj.write((df_list[i] +\"\\n\"))"
   ]
  },
  {
   "cell_type": "code",
   "execution_count": 6,
   "metadata": {
    "collapsed": true
   },
   "outputs": [
    {
     "data": {
      "text/plain": [
       "['Categorical',\n",
       " 'CategoricalIndex',\n",
       " 'DataFrame',\n",
       " 'DateOffset',\n",
       " 'DatetimeIndex',\n",
       " 'ExcelFile',\n",
       " 'ExcelWriter',\n",
       " 'Expr',\n",
       " 'Float64Index',\n",
       " 'Grouper',\n",
       " 'HDFStore',\n",
       " 'Index',\n",
       " 'IndexSlice',\n",
       " 'Int64Index',\n",
       " 'Interval',\n",
       " 'IntervalIndex',\n",
       " 'MultiIndex',\n",
       " 'NaT',\n",
       " 'Panel',\n",
       " 'Panel4D',\n",
       " 'Period',\n",
       " 'PeriodIndex',\n",
       " 'RangeIndex',\n",
       " 'Series',\n",
       " 'SparseArray',\n",
       " 'SparseDataFrame',\n",
       " 'SparseList',\n",
       " 'SparseSeries',\n",
       " 'Term',\n",
       " 'TimeGrouper',\n",
       " 'Timedelta',\n",
       " 'TimedeltaIndex',\n",
       " 'Timestamp',\n",
       " 'UInt64Index',\n",
       " 'WidePanel',\n",
       " '_DeprecatedModule',\n",
       " '__builtins__',\n",
       " '__cached__',\n",
       " '__doc__',\n",
       " '__docformat__',\n",
       " '__file__',\n",
       " '__loader__',\n",
       " '__name__',\n",
       " '__package__',\n",
       " '__path__',\n",
       " '__spec__',\n",
       " '__version__',\n",
       " '_hashtable',\n",
       " '_lib',\n",
       " '_libs',\n",
       " '_np_version_under1p10',\n",
       " '_np_version_under1p11',\n",
       " '_np_version_under1p12',\n",
       " '_np_version_under1p13',\n",
       " '_np_version_under1p14',\n",
       " '_np_version_under1p15',\n",
       " '_tslib',\n",
       " '_version',\n",
       " 'api',\n",
       " 'bdate_range',\n",
       " 'compat',\n",
       " 'concat',\n",
       " 'core',\n",
       " 'crosstab',\n",
       " 'cut',\n",
       " 'date_range',\n",
       " 'datetime',\n",
       " 'datetools',\n",
       " 'describe_option',\n",
       " 'errors',\n",
       " 'eval',\n",
       " 'ewma',\n",
       " 'ewmcorr',\n",
       " 'ewmcov',\n",
       " 'ewmstd',\n",
       " 'ewmvar',\n",
       " 'ewmvol',\n",
       " 'expanding_apply',\n",
       " 'expanding_corr',\n",
       " 'expanding_count',\n",
       " 'expanding_cov',\n",
       " 'expanding_kurt',\n",
       " 'expanding_max',\n",
       " 'expanding_mean',\n",
       " 'expanding_median',\n",
       " 'expanding_min',\n",
       " 'expanding_quantile',\n",
       " 'expanding_skew',\n",
       " 'expanding_std',\n",
       " 'expanding_sum',\n",
       " 'expanding_var',\n",
       " 'factorize',\n",
       " 'get_dummies',\n",
       " 'get_option',\n",
       " 'get_store',\n",
       " 'groupby',\n",
       " 'infer_freq',\n",
       " 'interval_range',\n",
       " 'io',\n",
       " 'isna',\n",
       " 'isnull',\n",
       " 'json',\n",
       " 'lib',\n",
       " 'lreshape',\n",
       " 'match',\n",
       " 'melt',\n",
       " 'merge',\n",
       " 'merge_asof',\n",
       " 'merge_ordered',\n",
       " 'notna',\n",
       " 'notnull',\n",
       " 'np',\n",
       " 'offsets',\n",
       " 'option_context',\n",
       " 'options',\n",
       " 'ordered_merge',\n",
       " 'pandas',\n",
       " 'parser',\n",
       " 'period_range',\n",
       " 'pivot',\n",
       " 'pivot_table',\n",
       " 'plot_params',\n",
       " 'plotting',\n",
       " 'pnow',\n",
       " 'qcut',\n",
       " 'read_clipboard',\n",
       " 'read_csv',\n",
       " 'read_excel',\n",
       " 'read_feather',\n",
       " 'read_fwf',\n",
       " 'read_gbq',\n",
       " 'read_hdf',\n",
       " 'read_html',\n",
       " 'read_json',\n",
       " 'read_msgpack',\n",
       " 'read_parquet',\n",
       " 'read_pickle',\n",
       " 'read_sas',\n",
       " 'read_sql',\n",
       " 'read_sql_query',\n",
       " 'read_sql_table',\n",
       " 'read_stata',\n",
       " 'read_table',\n",
       " 'reset_option',\n",
       " 'rolling_apply',\n",
       " 'rolling_corr',\n",
       " 'rolling_count',\n",
       " 'rolling_cov',\n",
       " 'rolling_kurt',\n",
       " 'rolling_max',\n",
       " 'rolling_mean',\n",
       " 'rolling_median',\n",
       " 'rolling_min',\n",
       " 'rolling_quantile',\n",
       " 'rolling_skew',\n",
       " 'rolling_std',\n",
       " 'rolling_sum',\n",
       " 'rolling_var',\n",
       " 'rolling_window',\n",
       " 'scatter_matrix',\n",
       " 'set_eng_float_format',\n",
       " 'set_option',\n",
       " 'show_versions',\n",
       " 'stats',\n",
       " 'test',\n",
       " 'testing',\n",
       " 'timedelta_range',\n",
       " 'to_datetime',\n",
       " 'to_msgpack',\n",
       " 'to_numeric',\n",
       " 'to_pickle',\n",
       " 'to_timedelta',\n",
       " 'tools',\n",
       " 'tseries',\n",
       " 'tslib',\n",
       " 'unique',\n",
       " 'util',\n",
       " 'value_counts',\n",
       " 'wide_to_long']"
      ]
     },
     "execution_count": 6,
     "metadata": {},
     "output_type": "execute_result"
    }
   ],
   "source": [
    "dir(pd)"
   ]
  },
  {
   "cell_type": "code",
   "execution_count": null,
   "metadata": {
    "scrolled": true
   },
   "outputs": [],
   "source": [
    "print(np.sort(dir(pd)))"
   ]
  },
  {
   "cell_type": "code",
   "execution_count": null,
   "metadata": {
    "scrolled": true
   },
   "outputs": [],
   "source": [
    "print(dir(pd.Series))"
   ]
  },
  {
   "cell_type": "code",
   "execution_count": null,
   "metadata": {
    "scrolled": true
   },
   "outputs": [],
   "source": [
    "print(dir(pd.DataFrame))"
   ]
  },
  {
   "cell_type": "markdown",
   "metadata": {},
   "source": [
    "### Introducing Pandas Objects\n",
    "* Pandas objects: enhanced versions of NumPy structured arrays\n",
    "* The rows and columns are identified with labels rather than simple integer indices.\n",
    "* Three fundamental Pandas data structures: the **Series, DataFrame, and Index **.\n",
    "\n",
    "### The Pandas Series Object\n",
    "* A **Pandas Series** is a 1D array of indexed data. It can be created from a list or array.\n",
    "* The **Series** wraps both a sequence of values and a sequence of indices, which can be accessed with the **values** and **index** attributes.\n",
    "    * **values**: NumPy array\n",
    "    * **index**: array-like object of type pd.Index\n",
    "* Data can be accessed by the associated index via Python [] notation.\n",
    "* pd.Series(data=None, index=None, dtype=None, name=None, copy=False, fastpath=False)\n",
    "    * Labels need not be unique but must be a hashable type. "
   ]
  },
  {
   "cell_type": "code",
   "execution_count": 7,
   "metadata": {},
   "outputs": [],
   "source": [
    "pd.Series?"
   ]
  },
  {
   "cell_type": "code",
   "execution_count": 10,
   "metadata": {},
   "outputs": [
    {
     "data": {
      "text/plain": [
       "0.25"
      ]
     },
     "execution_count": 10,
     "metadata": {},
     "output_type": "execute_result"
    }
   ],
   "source": [
    "np.linspace(0.25, 1, 4)"
   ]
  },
  {
   "cell_type": "code",
   "execution_count": 60,
   "metadata": {},
   "outputs": [
    {
     "data": {
      "text/plain": [
       "z    0.25\n",
       "z    0.50\n",
       "z    0.75\n",
       "z    1.00\n",
       "dtype: float64"
      ]
     },
     "execution_count": 60,
     "metadata": {},
     "output_type": "execute_result"
    }
   ],
   "source": [
    "data = pd.Series(np.linspace(0.25, 1, 4)) # or pd.Series([0.25, 0.5, 0.75, 1.0])\n",
    "data.index=[list('zzzz')]\n",
    "data # Wrap both a sequence of values and a sequence of indices\n"
   ]
  },
  {
   "cell_type": "code",
   "execution_count": 12,
   "metadata": {},
   "outputs": [
    {
     "data": {
      "text/plain": [
       "pandas.core.series.Series"
      ]
     },
     "execution_count": 12,
     "metadata": {},
     "output_type": "execute_result"
    }
   ],
   "source": [
    "type(data)"
   ]
  },
  {
   "cell_type": "code",
   "execution_count": 14,
   "metadata": {
    "scrolled": true
   },
   "outputs": [
    {
     "data": {
      "text/plain": [
       "2.5"
      ]
     },
     "execution_count": 14,
     "metadata": {},
     "output_type": "execute_result"
    }
   ],
   "source": [
    "data"
   ]
  },
  {
   "cell_type": "code",
   "execution_count": 15,
   "metadata": {},
   "outputs": [
    {
     "data": {
      "text/plain": [
       "array([0.25, 0.5 , 0.75, 1.  ])"
      ]
     },
     "execution_count": 15,
     "metadata": {},
     "output_type": "execute_result"
    }
   ],
   "source": [
    "data.values"
   ]
  },
  {
   "cell_type": "code",
   "execution_count": 24,
   "metadata": {},
   "outputs": [
    {
     "data": {
      "text/plain": [
       "MultiIndex(levels=[['i', 'l', 'r', 'z']],\n",
       "           labels=[[3, 1, 0, 2]])"
      ]
     },
     "execution_count": 24,
     "metadata": {},
     "output_type": "execute_result"
    }
   ],
   "source": [
    "data.index"
   ]
  },
  {
   "cell_type": "markdown",
   "metadata": {},
   "source": [
    "#### Series as generalized NumPy array\n",
    "* The essential difference is the presence of the index.\n",
    "    * **NumPy array**: *implicitly defined* integer index used to access the values.\n",
    "    * **Pandas Series**: *explicitly defined* index associated with the values.\n",
    "* This explicit index definition gives the **Series** object additional capabilities.\n",
    "    * the index need not to be an integer, but can consist of values of any desired type.\n",
    "    * noncontiguous or nonsequential indices."
   ]
  },
  {
   "cell_type": "code",
   "execution_count": 38,
   "metadata": {},
   "outputs": [
    {
     "data": {
      "text/plain": [
       "z    0.25\n",
       "l    0.50\n",
       "i    0.75\n",
       "r    1.00\n",
       "dtype: float64"
      ]
     },
     "execution_count": 38,
     "metadata": {},
     "output_type": "execute_result"
    }
   ],
   "source": [
    "data"
   ]
  },
  {
   "cell_type": "code",
   "execution_count": 39,
   "metadata": {},
   "outputs": [
    {
     "data": {
      "text/plain": [
       "a    0.25\n",
       "b    0.50\n",
       "c    0.75\n",
       "d    1.00\n",
       "dtype: float64"
      ]
     },
     "execution_count": 39,
     "metadata": {},
     "output_type": "execute_result"
    }
   ],
   "source": [
    "import string\n",
    "data.index = list(string.ascii_lowercase)[0:len(data)]\n",
    "data"
   ]
  },
  {
   "cell_type": "code",
   "execution_count": 43,
   "metadata": {},
   "outputs": [
    {
     "data": {
      "text/plain": [
       "4"
      ]
     },
     "execution_count": 43,
     "metadata": {},
     "output_type": "execute_result"
    }
   ],
   "source": [
    "len(data)"
   ]
  },
  {
   "cell_type": "code",
   "execution_count": 50,
   "metadata": {},
   "outputs": [
    {
     "data": {
      "text/plain": [
       "w    0.25\n",
       "x    0.50\n",
       "y    0.75\n",
       "z    1.00\n",
       "dtype: float64"
      ]
     },
     "execution_count": 50,
     "metadata": {},
     "output_type": "execute_result"
    }
   ],
   "source": [
    "data.index = list(string.ascii_lowercase)[22:22+len(data)]\n",
    "data"
   ]
  },
  {
   "cell_type": "markdown",
   "metadata": {},
   "source": [
    "#### Series as specialized dictionary\n",
    "* **Pandas Series** a bit like a specialization of a Python dictionary.\n",
    "    * A *dictionary* is a structure that maps arbitrary keys to a set of arbitrary values.\n",
    "    * A *Series* is a structure that maps typed keys to a set of typed values.\n",
    "    * This typing is important: \n",
    "        * The type info of a **Pandas Series** makes it much more efficient than dictionaries\n",
    "        * Similar to type-specific compiled code behind a NumPy array.\n",
    "        \n",
    "* Constructing a Series object directly from a Python dictionary\n",
    "    * By default, a Seris will be created where the index is drawn from the sorted keys.\n",
    "    * Typical dictionary-style item access can be performed\n",
    "    * <font color = red> **Unlike a dictionary**</font>, the Series also supports array-style operations such as slicing"
   ]
  },
  {
   "cell_type": "code",
   "execution_count": 70,
   "metadata": {},
   "outputs": [
    {
     "data": {
      "text/plain": [
       "a   NaN\n",
       "b   NaN\n",
       "c   NaN\n",
       "d   NaN\n",
       "dtype: float64"
      ]
     },
     "execution_count": 70,
     "metadata": {},
     "output_type": "execute_result"
    }
   ],
   "source": [
    "# Constructing a Series object directly from a Python dictionary\n",
    "# By default, a Seris will be created where the index is drawn from the sorted keys.\n",
    "population_dict = {'California': 38332521,\n",
    "                   'Texas': 26448193,\n",
    "                   'New York': 19651127,\n",
    "                   'Florida': 19552860,\n",
    "                   'Illinois': 12882135}\n",
    "population = pd.Series(population_dict, index=list('abcd'))\n",
    "population"
   ]
  },
  {
   "cell_type": "code",
   "execution_count": 53,
   "metadata": {},
   "outputs": [
    {
     "data": {
      "text/plain": [
       "38332521"
      ]
     },
     "execution_count": 53,
     "metadata": {},
     "output_type": "execute_result"
    }
   ],
   "source": [
    "# typical dictionary-style item access can be performed\n",
    "population['California']"
   ]
  },
  {
   "cell_type": "code",
   "execution_count": 58,
   "metadata": {},
   "outputs": [
    {
     "data": {
      "text/plain": [
       "California    38332521\n",
       "Florida       19552860\n",
       "Illinois      12882135\n",
       "dtype: int64"
      ]
     },
     "execution_count": 58,
     "metadata": {},
     "output_type": "execute_result"
    }
   ],
   "source": [
    "# Unlike a dictionary, the Series also supports array-style operations such as slicing\n",
    "population['California':'Illinois']"
   ]
  },
  {
   "cell_type": "markdown",
   "metadata": {},
   "source": [
    "### Constructing Series objects\n",
    "* pd.Series(data=None, index=None, dtype=None, name=None, copy=False, fastpath=False)\n",
    "* **data**: array-like, dict, or scalar value\n",
    "* **index**\n",
    "    * Values must be hashable\n",
    "    * Values must have the same length as `data`\n",
    "    * Non-unique index values are allowed\n",
    "    * Will default to RangeIndex(len(data)) if not provided.\n",
    "    * If both a dict and index sequence are used, the index will override the keys found in the dict."
   ]
  },
  {
   "cell_type": "code",
   "execution_count": 59,
   "metadata": {},
   "outputs": [],
   "source": [
    "pd.Series?"
   ]
  },
  {
   "cell_type": "code",
   "execution_count": 63,
   "metadata": {},
   "outputs": [
    {
     "data": {
      "text/plain": [
       "0    2\n",
       "1    4\n",
       "2    6\n",
       "dtype: int64"
      ]
     },
     "execution_count": 63,
     "metadata": {},
     "output_type": "execute_result"
    }
   ],
   "source": [
    "# data can be a list or NumPy array, where index defaults to an integer sequence\n",
    "pd.Series([2, 4, 6])"
   ]
  },
  {
   "cell_type": "code",
   "execution_count": 64,
   "metadata": {},
   "outputs": [
    {
     "data": {
      "text/plain": [
       "100    5\n",
       "200    5\n",
       "300    5\n",
       "dtype: int64"
      ]
     },
     "execution_count": 64,
     "metadata": {},
     "output_type": "execute_result"
    }
   ],
   "source": [
    "# data can be a scalar, which is repeated to fill the specified index:\n",
    "pd.Series(5, index = [100, 200, 300])"
   ]
  },
  {
   "cell_type": "code",
   "execution_count": 65,
   "metadata": {},
   "outputs": [
    {
     "data": {
      "text/plain": [
       "1    b\n",
       "2    a\n",
       "3    c\n",
       "dtype: object"
      ]
     },
     "execution_count": 65,
     "metadata": {},
     "output_type": "execute_result"
    }
   ],
   "source": [
    "# data can be a dictionary, in which index defaults to the sorted dictionary keys:\n",
    "pd.Series({2:'a',\n",
    "          1:'b',\n",
    "          3:'c'})"
   ]
  },
  {
   "cell_type": "code",
   "execution_count": 66,
   "metadata": {},
   "outputs": [
    {
     "data": {
      "text/plain": [
       "3    c\n",
       "2    a\n",
       "dtype: object"
      ]
     },
     "execution_count": 66,
     "metadata": {},
     "output_type": "execute_result"
    }
   ],
   "source": [
    "# In each case, the index can be explicitly set if a different results is preferred:\n",
    "pd.Series({2:'a', 1:'b', 3:'c'}, index = [3, 2])\n",
    "# In this case, the Series is populated only with the explicitly identified keys"
   ]
  },
  {
   "cell_type": "markdown",
   "metadata": {},
   "source": [
    "### The Pandas DataFrame Objects\n",
    "* The **DataFrame** can be thought of either as a generalization of a NumPy array, or as a specialization of a Python dictionary.\n",
    "\n",
    "#### DataFrame as a generalized NumPy array\n",
    "* If a Series is an analog of a one-dimensional array with flexible indices, a DataFrame is an analog of a two-dimensional array with both flexible row indices and flexible column names. \n",
    "* Just as you might think of a two-dimensional array as an ordered sequence of aligned one-dimensional columns, you can think of a DataFrame as a sequence of aligned Series objects.\n",
    "* Here, by “aligned” we mean that they share the same index.\n",
    "\n",
    "<font color = red size = 2> **pd.DataFrame**(data=None, index=None, columns=None, dtype=None, copy=False) </font>\n",
    "<font color = red size = 2>\n",
    "* **Docstring**\n",
    "    * Two-dimensional size-mutable, potentially heterogeneous tabular data structure with labeled axes (rows and columns). \n",
    "    * Arithmetic operations align on both row and column labels.\n",
    "    * Can be thought of as a dict-like container for Series objects.\n",
    "    * The primary pandas data structure\n",
    "\n",
    "\n",
    "* **Parameters**\n",
    "    * **Data**: numpy ndarray (structured or homogeneous), dict, or DataFrame. Dict can contain Series, arrays, constants, or list-like objects.\n",
    "    * **Index**: Index or array-like\n",
    "        * Index to use for resulting frame. \n",
    "        * Will default to np.arange(n) if no indexing information part of input data and no index provided\n",
    "    * **Column**: Index or array-like\n",
    "        * Column labels to use for resulting frame. \n",
    "        * Will default to np.arange(n) if no column labels are provided\n",
    "    * **dtype**: dtype, default None\n",
    "        * Data type to force.\n",
    "        * Only a single dtype is allowed.\n",
    "        * If None, infer"
   ]
  },
  {
   "cell_type": "code",
   "execution_count": 10,
   "metadata": {},
   "outputs": [
    {
     "data": {
      "text/html": [
       "<div>\n",
       "<style scoped>\n",
       "    .dataframe tbody tr th:only-of-type {\n",
       "        vertical-align: middle;\n",
       "    }\n",
       "\n",
       "    .dataframe tbody tr th {\n",
       "        vertical-align: top;\n",
       "    }\n",
       "\n",
       "    .dataframe thead th {\n",
       "        text-align: right;\n",
       "    }\n",
       "</style>\n",
       "<table border=\"1\" class=\"dataframe\">\n",
       "  <thead>\n",
       "    <tr style=\"text-align: right;\">\n",
       "      <th></th>\n",
       "      <th>col1</th>\n",
       "    </tr>\n",
       "  </thead>\n",
       "  <tbody>\n",
       "    <tr>\n",
       "      <th>a</th>\n",
       "      <td>1</td>\n",
       "    </tr>\n",
       "    <tr>\n",
       "      <th>b</th>\n",
       "      <td>2</td>\n",
       "    </tr>\n",
       "  </tbody>\n",
       "</table>\n",
       "</div>"
      ],
      "text/plain": [
       "   col1\n",
       "a     1\n",
       "b     2"
      ]
     },
     "execution_count": 10,
     "metadata": {},
     "output_type": "execute_result"
    }
   ],
   "source": [
    "d = {'col1': [1, 2], 'col2': [3, 4]}\n",
    "df = pd.DataFrame(data=d, index=list('ab'), columns=['col1'])\n",
    "df"
   ]
  },
  {
   "cell_type": "code",
   "execution_count": 3,
   "metadata": {},
   "outputs": [],
   "source": [
    "pd.DataFrame?"
   ]
  },
  {
   "cell_type": "code",
   "execution_count": 11,
   "metadata": {},
   "outputs": [
    {
     "data": {
      "text/plain": [
       "California    38332521\n",
       "Florida       19552860\n",
       "Illinois      12882135\n",
       "New York      19651127\n",
       "Texas         26448193\n",
       "dtype: int64"
      ]
     },
     "execution_count": 11,
     "metadata": {},
     "output_type": "execute_result"
    }
   ],
   "source": [
    "population_dict = {'California': 38332521,\n",
    "'Texas': 26448193,\n",
    "'New York': 19651127,\n",
    "'Florida': 19552860,\n",
    "'Illinois': 12882135}\n",
    "population = pd.Series(population_dict)\n",
    "population"
   ]
  },
  {
   "cell_type": "code",
   "execution_count": 12,
   "metadata": {},
   "outputs": [
    {
     "data": {
      "text/plain": [
       "California    423967\n",
       "Florida       170312\n",
       "Illinois      149995\n",
       "New York      141297\n",
       "Texas         695662\n",
       "dtype: int64"
      ]
     },
     "execution_count": 12,
     "metadata": {},
     "output_type": "execute_result"
    }
   ],
   "source": [
    "area_dict = {'California': 423967, \n",
    "             'Texas': 695662, \n",
    "             'New York': 141297,\n",
    "             'Florida': 170312, \n",
    "             'Illinois': 149995}\n",
    "area = pd.Series(area_dict)\n",
    "area"
   ]
  },
  {
   "cell_type": "code",
   "execution_count": 13,
   "metadata": {},
   "outputs": [],
   "source": [
    "# Use a dictionary to construct a single 2D object:\n",
    "states = pd.DataFrame({'population' : population, 'area' : area})  # value is pd.Series\n",
    "# Share the same key or index"
   ]
  },
  {
   "cell_type": "code",
   "execution_count": 14,
   "metadata": {
    "scrolled": false
   },
   "outputs": [
    {
     "data": {
      "text/html": [
       "<div>\n",
       "<style scoped>\n",
       "    .dataframe tbody tr th:only-of-type {\n",
       "        vertical-align: middle;\n",
       "    }\n",
       "\n",
       "    .dataframe tbody tr th {\n",
       "        vertical-align: top;\n",
       "    }\n",
       "\n",
       "    .dataframe thead th {\n",
       "        text-align: right;\n",
       "    }\n",
       "</style>\n",
       "<table border=\"1\" class=\"dataframe\">\n",
       "  <thead>\n",
       "    <tr style=\"text-align: right;\">\n",
       "      <th></th>\n",
       "      <th>area</th>\n",
       "      <th>population</th>\n",
       "    </tr>\n",
       "  </thead>\n",
       "  <tbody>\n",
       "    <tr>\n",
       "      <th>California</th>\n",
       "      <td>423967</td>\n",
       "      <td>38332521</td>\n",
       "    </tr>\n",
       "    <tr>\n",
       "      <th>Florida</th>\n",
       "      <td>170312</td>\n",
       "      <td>19552860</td>\n",
       "    </tr>\n",
       "    <tr>\n",
       "      <th>Illinois</th>\n",
       "      <td>149995</td>\n",
       "      <td>12882135</td>\n",
       "    </tr>\n",
       "    <tr>\n",
       "      <th>New York</th>\n",
       "      <td>141297</td>\n",
       "      <td>19651127</td>\n",
       "    </tr>\n",
       "    <tr>\n",
       "      <th>Texas</th>\n",
       "      <td>695662</td>\n",
       "      <td>26448193</td>\n",
       "    </tr>\n",
       "  </tbody>\n",
       "</table>\n",
       "</div>"
      ],
      "text/plain": [
       "              area  population\n",
       "California  423967    38332521\n",
       "Florida     170312    19552860\n",
       "Illinois    149995    12882135\n",
       "New York    141297    19651127\n",
       "Texas       695662    26448193"
      ]
     },
     "execution_count": 14,
     "metadata": {},
     "output_type": "execute_result"
    }
   ],
   "source": [
    "states"
   ]
  },
  {
   "cell_type": "code",
   "execution_count": 15,
   "metadata": {},
   "outputs": [
    {
     "data": {
      "text/plain": [
       "Index(['California', 'Florida', 'Illinois', 'New York', 'Texas'], dtype='object')"
      ]
     },
     "execution_count": 15,
     "metadata": {},
     "output_type": "execute_result"
    }
   ],
   "source": [
    "states.index"
   ]
  },
  {
   "cell_type": "code",
   "execution_count": 16,
   "metadata": {},
   "outputs": [
    {
     "data": {
      "text/plain": [
       "Index(['area', 'population'], dtype='object')"
      ]
     },
     "execution_count": 16,
     "metadata": {},
     "output_type": "execute_result"
    }
   ],
   "source": [
    "states.columns"
   ]
  },
  {
   "cell_type": "markdown",
   "metadata": {},
   "source": [
    "#### DataFrame as specialized dictionary\n",
    "* A dictionary maps a key to a value\n",
    "* A **DataFrame** maps a column name to a **Series** of column data.\n",
    "\n",
    "<font color = red size = 2>\n",
    "* In a 2D np array, data[0] will return the first row.\n",
    "* For a DataFrame, data['col0'] will return the first column"
   ]
  },
  {
   "cell_type": "code",
   "execution_count": 18,
   "metadata": {},
   "outputs": [
    {
     "data": {
      "text/plain": [
       "pandas.core.series.Series"
      ]
     },
     "execution_count": 18,
     "metadata": {},
     "output_type": "execute_result"
    }
   ],
   "source": [
    "type(states['area'])"
   ]
  },
  {
   "cell_type": "markdown",
   "metadata": {},
   "source": [
    "#### Constructing DataFrame objects"
   ]
  },
  {
   "cell_type": "code",
   "execution_count": null,
   "metadata": {},
   "outputs": [],
   "source": []
  },
  {
   "cell_type": "code",
   "execution_count": null,
   "metadata": {},
   "outputs": [],
   "source": []
  },
  {
   "cell_type": "code",
   "execution_count": 22,
   "metadata": {},
   "outputs": [
    {
     "data": {
      "text/html": [
       "<div>\n",
       "<style scoped>\n",
       "    .dataframe tbody tr th:only-of-type {\n",
       "        vertical-align: middle;\n",
       "    }\n",
       "\n",
       "    .dataframe tbody tr th {\n",
       "        vertical-align: top;\n",
       "    }\n",
       "\n",
       "    .dataframe thead th {\n",
       "        text-align: right;\n",
       "    }\n",
       "</style>\n",
       "<table border=\"1\" class=\"dataframe\">\n",
       "  <thead>\n",
       "    <tr style=\"text-align: right;\">\n",
       "      <th></th>\n",
       "      <th>population</th>\n",
       "    </tr>\n",
       "  </thead>\n",
       "  <tbody>\n",
       "    <tr>\n",
       "      <th>California</th>\n",
       "      <td>38332521</td>\n",
       "    </tr>\n",
       "    <tr>\n",
       "      <th>Florida</th>\n",
       "      <td>19552860</td>\n",
       "    </tr>\n",
       "    <tr>\n",
       "      <th>Illinois</th>\n",
       "      <td>12882135</td>\n",
       "    </tr>\n",
       "    <tr>\n",
       "      <th>New York</th>\n",
       "      <td>19651127</td>\n",
       "    </tr>\n",
       "    <tr>\n",
       "      <th>Texas</th>\n",
       "      <td>26448193</td>\n",
       "    </tr>\n",
       "  </tbody>\n",
       "</table>\n",
       "</div>"
      ],
      "text/plain": [
       "            population\n",
       "California    38332521\n",
       "Florida       19552860\n",
       "Illinois      12882135\n",
       "New York      19651127\n",
       "Texas         26448193"
      ]
     },
     "execution_count": 22,
     "metadata": {},
     "output_type": "execute_result"
    }
   ],
   "source": [
    "# From a single Series object.\n",
    "  # A DataFrame is a collection of Series object.\n",
    "  # A single column DataFrame can be constructed from a single Series\n",
    "\n",
    "pd.DataFrame(population, columns = ['population'])"
   ]
  },
  {
   "cell_type": "code",
   "execution_count": 19,
   "metadata": {},
   "outputs": [],
   "source": [
    "pd.DataFrame?"
   ]
  },
  {
   "cell_type": "code",
   "execution_count": 27,
   "metadata": {},
   "outputs": [
    {
     "data": {
      "text/plain": [
       "[{'a': 0, 'b': 0},\n",
       " {'a': 1, 'b': 2},\n",
       " {'a': 2, 'b': 4},\n",
       " {'a': 3, 'b': 6},\n",
       " {'a': 4, 'b': 8},\n",
       " {'a': 5, 'b': 10},\n",
       " {'a': 6, 'b': 12},\n",
       " {'a': 7, 'b': 14},\n",
       " {'a': 8, 'b': 16},\n",
       " {'a': 9, 'b': 18}]"
      ]
     },
     "execution_count": 27,
     "metadata": {},
     "output_type": "execute_result"
    }
   ],
   "source": [
    "dict_Test = []\n",
    "for i in range(10):\n",
    "    dict_Test.append({'a' : i, 'b' : i * 2})\n",
    "\n",
    "dict_Test"
   ]
  },
  {
   "cell_type": "code",
   "execution_count": 23,
   "metadata": {},
   "outputs": [
    {
     "data": {
      "text/plain": [
       "[{'a': 0, 'b': 0},\n",
       " {'a': 1, 'b': 2},\n",
       " {'a': 2, 'b': 4},\n",
       " {'a': 3, 'b': 6},\n",
       " {'a': 4, 'b': 8},\n",
       " {'a': 5, 'b': 10},\n",
       " {'a': 6, 'b': 12},\n",
       " {'a': 7, 'b': 14},\n",
       " {'a': 8, 'b': 16},\n",
       " {'a': 9, 'b': 18}]"
      ]
     },
     "execution_count": 23,
     "metadata": {},
     "output_type": "execute_result"
    }
   ],
   "source": [
    "[{'a' : i, 'b' : i * 2} for i in range(10)]"
   ]
  },
  {
   "cell_type": "code",
   "execution_count": 28,
   "metadata": {},
   "outputs": [
    {
     "data": {
      "text/html": [
       "<div>\n",
       "<style scoped>\n",
       "    .dataframe tbody tr th:only-of-type {\n",
       "        vertical-align: middle;\n",
       "    }\n",
       "\n",
       "    .dataframe tbody tr th {\n",
       "        vertical-align: top;\n",
       "    }\n",
       "\n",
       "    .dataframe thead th {\n",
       "        text-align: right;\n",
       "    }\n",
       "</style>\n",
       "<table border=\"1\" class=\"dataframe\">\n",
       "  <thead>\n",
       "    <tr style=\"text-align: right;\">\n",
       "      <th></th>\n",
       "      <th>a</th>\n",
       "      <th>b</th>\n",
       "    </tr>\n",
       "  </thead>\n",
       "  <tbody>\n",
       "    <tr>\n",
       "      <th>0</th>\n",
       "      <td>0</td>\n",
       "      <td>0</td>\n",
       "    </tr>\n",
       "    <tr>\n",
       "      <th>1</th>\n",
       "      <td>1</td>\n",
       "      <td>2</td>\n",
       "    </tr>\n",
       "    <tr>\n",
       "      <th>2</th>\n",
       "      <td>2</td>\n",
       "      <td>4</td>\n",
       "    </tr>\n",
       "    <tr>\n",
       "      <th>3</th>\n",
       "      <td>3</td>\n",
       "      <td>6</td>\n",
       "    </tr>\n",
       "    <tr>\n",
       "      <th>4</th>\n",
       "      <td>4</td>\n",
       "      <td>8</td>\n",
       "    </tr>\n",
       "    <tr>\n",
       "      <th>5</th>\n",
       "      <td>5</td>\n",
       "      <td>10</td>\n",
       "    </tr>\n",
       "    <tr>\n",
       "      <th>6</th>\n",
       "      <td>6</td>\n",
       "      <td>12</td>\n",
       "    </tr>\n",
       "    <tr>\n",
       "      <th>7</th>\n",
       "      <td>7</td>\n",
       "      <td>14</td>\n",
       "    </tr>\n",
       "    <tr>\n",
       "      <th>8</th>\n",
       "      <td>8</td>\n",
       "      <td>16</td>\n",
       "    </tr>\n",
       "    <tr>\n",
       "      <th>9</th>\n",
       "      <td>9</td>\n",
       "      <td>18</td>\n",
       "    </tr>\n",
       "  </tbody>\n",
       "</table>\n",
       "</div>"
      ],
      "text/plain": [
       "   a   b\n",
       "0  0   0\n",
       "1  1   2\n",
       "2  2   4\n",
       "3  3   6\n",
       "4  4   8\n",
       "5  5  10\n",
       "6  6  12\n",
       "7  7  14\n",
       "8  8  16\n",
       "9  9  18"
      ]
     },
     "execution_count": 28,
     "metadata": {},
     "output_type": "execute_result"
    }
   ],
   "source": [
    "# From a list of dicts.\n",
    "    # Any list of dictionaries can be made into a DataFrame\n",
    "data = [{'a' : i, 'b' : i*2}\n",
    "        for i in range(10)]\n",
    "pd.DataFrame(data)"
   ]
  },
  {
   "cell_type": "code",
   "execution_count": 31,
   "metadata": {},
   "outputs": [
    {
     "data": {
      "text/plain": [
       "array([48])"
      ]
     },
     "execution_count": 31,
     "metadata": {},
     "output_type": "execute_result"
    }
   ],
   "source": [
    "# From a list of dicts.\n",
    "    # Any list of dictionaries can be made into a DataFrame\n",
    "data = [{'a' : np.random.randint(100, size = 1), 'b' : np.random.randint(100, 200, size = 1)}\n",
    "        for i in range(10)]\n",
    "pd.DataFrame(data)['a'][0]"
   ]
  },
  {
   "cell_type": "code",
   "execution_count": 37,
   "metadata": {},
   "outputs": [],
   "source": [
    "pd.DataFrame??"
   ]
  },
  {
   "cell_type": "code",
   "execution_count": 32,
   "metadata": {},
   "outputs": [
    {
     "data": {
      "text/html": [
       "<div>\n",
       "<style scoped>\n",
       "    .dataframe tbody tr th:only-of-type {\n",
       "        vertical-align: middle;\n",
       "    }\n",
       "\n",
       "    .dataframe tbody tr th {\n",
       "        vertical-align: top;\n",
       "    }\n",
       "\n",
       "    .dataframe thead th {\n",
       "        text-align: right;\n",
       "    }\n",
       "</style>\n",
       "<table border=\"1\" class=\"dataframe\">\n",
       "  <thead>\n",
       "    <tr style=\"text-align: right;\">\n",
       "      <th></th>\n",
       "      <th>a</th>\n",
       "      <th>b</th>\n",
       "      <th>c</th>\n",
       "    </tr>\n",
       "  </thead>\n",
       "  <tbody>\n",
       "    <tr>\n",
       "      <th>0</th>\n",
       "      <td>1.0</td>\n",
       "      <td>2</td>\n",
       "      <td>NaN</td>\n",
       "    </tr>\n",
       "    <tr>\n",
       "      <th>1</th>\n",
       "      <td>NaN</td>\n",
       "      <td>3</td>\n",
       "      <td>4.0</td>\n",
       "    </tr>\n",
       "  </tbody>\n",
       "</table>\n",
       "</div>"
      ],
      "text/plain": [
       "     a  b    c\n",
       "0  1.0  2  NaN\n",
       "1  NaN  3  4.0"
      ]
     },
     "execution_count": 32,
     "metadata": {},
     "output_type": "execute_result"
    }
   ],
   "source": [
    "# From a list of dicts.\n",
    "    # If some keys in the dictionary are missing, Pandas will fill them with NaN\n",
    "pd.DataFrame([{'a' : 1, 'b' : 2}, {'b' : 3, 'c' : 4}] )"
   ]
  },
  {
   "cell_type": "code",
   "execution_count": 33,
   "metadata": {},
   "outputs": [
    {
     "data": {
      "text/html": [
       "<div>\n",
       "<style scoped>\n",
       "    .dataframe tbody tr th:only-of-type {\n",
       "        vertical-align: middle;\n",
       "    }\n",
       "\n",
       "    .dataframe tbody tr th {\n",
       "        vertical-align: top;\n",
       "    }\n",
       "\n",
       "    .dataframe thead th {\n",
       "        text-align: right;\n",
       "    }\n",
       "</style>\n",
       "<table border=\"1\" class=\"dataframe\">\n",
       "  <thead>\n",
       "    <tr style=\"text-align: right;\">\n",
       "      <th></th>\n",
       "      <th>area</th>\n",
       "      <th>population</th>\n",
       "    </tr>\n",
       "  </thead>\n",
       "  <tbody>\n",
       "    <tr>\n",
       "      <th>California</th>\n",
       "      <td>423967</td>\n",
       "      <td>38332521</td>\n",
       "    </tr>\n",
       "    <tr>\n",
       "      <th>Florida</th>\n",
       "      <td>170312</td>\n",
       "      <td>19552860</td>\n",
       "    </tr>\n",
       "    <tr>\n",
       "      <th>Illinois</th>\n",
       "      <td>149995</td>\n",
       "      <td>12882135</td>\n",
       "    </tr>\n",
       "    <tr>\n",
       "      <th>New York</th>\n",
       "      <td>141297</td>\n",
       "      <td>19651127</td>\n",
       "    </tr>\n",
       "    <tr>\n",
       "      <th>Texas</th>\n",
       "      <td>695662</td>\n",
       "      <td>26448193</td>\n",
       "    </tr>\n",
       "  </tbody>\n",
       "</table>\n",
       "</div>"
      ],
      "text/plain": [
       "              area  population\n",
       "California  423967    38332521\n",
       "Florida     170312    19552860\n",
       "Illinois    149995    12882135\n",
       "New York    141297    19651127\n",
       "Texas       695662    26448193"
      ]
     },
     "execution_count": 33,
     "metadata": {},
     "output_type": "execute_result"
    }
   ],
   "source": [
    "# From a dictionary of Series object:\n",
    "pd.DataFrame({'population':population,\n",
    "             'area':area})"
   ]
  },
  {
   "cell_type": "code",
   "execution_count": 34,
   "metadata": {},
   "outputs": [
    {
     "data": {
      "text/html": [
       "<div>\n",
       "<style scoped>\n",
       "    .dataframe tbody tr th:only-of-type {\n",
       "        vertical-align: middle;\n",
       "    }\n",
       "\n",
       "    .dataframe tbody tr th {\n",
       "        vertical-align: top;\n",
       "    }\n",
       "\n",
       "    .dataframe thead th {\n",
       "        text-align: right;\n",
       "    }\n",
       "</style>\n",
       "<table border=\"1\" class=\"dataframe\">\n",
       "  <thead>\n",
       "    <tr style=\"text-align: right;\">\n",
       "      <th></th>\n",
       "      <th>foo</th>\n",
       "      <th>bar</th>\n",
       "    </tr>\n",
       "  </thead>\n",
       "  <tbody>\n",
       "    <tr>\n",
       "      <th>a</th>\n",
       "      <td>0.818145</td>\n",
       "      <td>0.498701</td>\n",
       "    </tr>\n",
       "    <tr>\n",
       "      <th>b</th>\n",
       "      <td>0.965731</td>\n",
       "      <td>0.031511</td>\n",
       "    </tr>\n",
       "    <tr>\n",
       "      <th>c</th>\n",
       "      <td>0.881216</td>\n",
       "      <td>0.972737</td>\n",
       "    </tr>\n",
       "  </tbody>\n",
       "</table>\n",
       "</div>"
      ],
      "text/plain": [
       "        foo       bar\n",
       "a  0.818145  0.498701\n",
       "b  0.965731  0.031511\n",
       "c  0.881216  0.972737"
      ]
     },
     "execution_count": 34,
     "metadata": {},
     "output_type": "execute_result"
    }
   ],
   "source": [
    "# From a 2D NumPy array\n",
    "    # Given a 2D array of data, we can create a DataFrame with any specified column and index names.\n",
    "    # if omitted, an integer index will be used for each:\n",
    "pd.DataFrame(np.random.rand(3,2),\n",
    "             columns = ['foo', 'bar'],\n",
    "             index = ['a', 'b', 'c'])"
   ]
  },
  {
   "cell_type": "code",
   "execution_count": 35,
   "metadata": {},
   "outputs": [
    {
     "data": {
      "text/plain": [
       "array([(0, 0.), (0, 0.), (0, 0.)], dtype=[('A', '<i8'), ('B', '<f8')])"
      ]
     },
     "execution_count": 35,
     "metadata": {},
     "output_type": "execute_result"
    }
   ],
   "source": [
    "# From a NumPy structured array\n",
    "A = np.zeros(3, dtype = [('A', 'i8'), ('B', 'f8')])\n",
    "A"
   ]
  },
  {
   "cell_type": "code",
   "execution_count": null,
   "metadata": {},
   "outputs": [],
   "source": [
    "pd.DataFrame(A)"
   ]
  },
  {
   "cell_type": "markdown",
   "metadata": {},
   "source": [
    "### The Pandas Index Object\n",
    "* Both the **Series** and **DataFrame** objects contain an explicit ***index***\n",
    "* Use ***index*** to let you reference and modify data.\n",
    "* **Index Object**\n",
    "    * Can be thought of either as an *immutable array* or as an *ordered set*.\n",
    "    * Technically a multiset, as **Index** objects may contain repeated values"
   ]
  },
  {
   "cell_type": "code",
   "execution_count": 39,
   "metadata": {},
   "outputs": [
    {
     "data": {
      "text/plain": [
       "Int64Index([2, 3, 5, 7, 11], dtype='int64')"
      ]
     },
     "execution_count": 39,
     "metadata": {},
     "output_type": "execute_result"
    }
   ],
   "source": [
    "# Construct and Index from a list of integers:\n",
    "ind = pd.Index([2, 3, 5, 7, 11])\n",
    "ind"
   ]
  },
  {
   "cell_type": "code",
   "execution_count": 38,
   "metadata": {},
   "outputs": [],
   "source": [
    "pd.Index?"
   ]
  },
  {
   "cell_type": "markdown",
   "metadata": {},
   "source": [
    "#### Index as immutable array\n",
    "* The **Index object** in many ways operates like an array.\n",
    "* **Index objects** have many of the attributes familiar from np arrays\n",
    "    * ind.size, ind.shape, ind.ndim, ind.dtype\n",
    "* One difference between Index objects and NumPy arrays is that indices are **immutable**—that is, they cannot be modified via the normal means"
   ]
  },
  {
   "cell_type": "code",
   "execution_count": 40,
   "metadata": {},
   "outputs": [
    {
     "data": {
      "text/plain": [
       "3"
      ]
     },
     "execution_count": 40,
     "metadata": {},
     "output_type": "execute_result"
    }
   ],
   "source": [
    "ind[1]"
   ]
  },
  {
   "cell_type": "code",
   "execution_count": 42,
   "metadata": {},
   "outputs": [
    {
     "data": {
      "text/plain": [
       "Int64Index([2, 5, 11], dtype='int64')"
      ]
     },
     "execution_count": 42,
     "metadata": {},
     "output_type": "execute_result"
    }
   ],
   "source": [
    "ind[ : : 2]"
   ]
  },
  {
   "cell_type": "code",
   "execution_count": 43,
   "metadata": {
    "scrolled": true
   },
   "outputs": [
    {
     "name": "stdout",
     "output_type": "stream",
     "text": [
      "['T', '__abs__', '__add__', '__and__', '__array__', '__array_priority__', '__array_wrap__', '__bool__', '__bytes__', '__class__', '__contains__', '__copy__', '__deepcopy__', '__delattr__', '__dict__', '__dir__', '__divmod__', '__doc__', '__eq__', '__floordiv__', '__format__', '__ge__', '__getattribute__', '__getitem__', '__gt__', '__hash__', '__iadd__', '__init__', '__init_subclass__', '__inv__', '__iter__', '__le__', '__len__', '__lt__', '__mod__', '__module__', '__mul__', '__ne__', '__neg__', '__new__', '__nonzero__', '__or__', '__pos__', '__pow__', '__radd__', '__reduce__', '__reduce_ex__', '__repr__', '__rfloordiv__', '__rmul__', '__rpow__', '__rsub__', '__rtruediv__', '__setattr__', '__setitem__', '__setstate__', '__sizeof__', '__str__', '__sub__', '__subclasshook__', '__truediv__', '__unicode__', '__weakref__', '__xor__', '_accessors', '_add_comparison_methods', '_add_logical_methods', '_add_logical_methods_disabled', '_add_numeric_methods', '_add_numeric_methods_add_sub_disabled', '_add_numeric_methods_binary', '_add_numeric_methods_disabled', '_add_numeric_methods_unary', '_allow_datetime_index_ops', '_allow_index_ops', '_allow_period_index_ops', '_arrmap', '_assert_can_do_op', '_assert_can_do_setop', '_assert_safe_casting', '_assert_take_fillable', '_attributes', '_box_scalars', '_can_hold_na', '_can_reindex', '_cleanup', '_coerce_scalar_to_index', '_coerce_to_ndarray', '_comparables', '_concat', '_concat_same_dtype', '_constructor', '_convert_arr_indexer', '_convert_can_do_setop', '_convert_for_op', '_convert_index_indexer', '_convert_list_indexer', '_convert_listlike_indexer', '_convert_scalar_indexer', '_convert_slice_indexer', '_convert_tolerance', '_data', '_deepcopy_if_needed', '_default_dtype', '_defer_to_indexing', '_deprecations', '_dir_additions', '_dir_deletions', '_engine', '_engine_type', '_evaluate_compare', '_evaluate_with_datetime_like', '_evaluate_with_timedelta_like', '_filter_indexer_tolerance', '_format_attrs', '_format_data', '_format_native_types', '_format_space', '_format_with_header', '_formatter_func', '_get_attributes_dict', '_get_consensus_name', '_get_duplicates', '_get_fill_indexer', '_get_fill_indexer_searchsorted', '_get_grouper_for_level', '_get_level_number', '_get_level_values', '_get_loc_only_exact_matches', '_get_names', '_get_nearest_indexer', '_get_string_slice', '_get_unique_index', '_has_complex_internals', '_id', '_infer_as_myclass', '_inner_indexer', '_invalid_indexer', '_is_memory_usage_qualified', '_is_numeric_dtype', '_is_strictly_monotonic_decreasing', '_is_strictly_monotonic_increasing', '_isnan', '_join_level', '_join_monotonic', '_join_multi', '_join_non_unique', '_join_precedence', '_left_indexer', '_left_indexer_unique', '_maybe_cast_indexer', '_maybe_cast_slice_bound', '_maybe_promote', '_maybe_update_attributes', '_mpl_repr', '_na_value', '_nan_idxs', '_outer_indexer', '_reduce', '_reindex_non_unique', '_reset_cache', '_reset_identity', '_scalar_data_error', '_searchsorted_monotonic', '_set_names', '_shallow_copy', '_shallow_copy_with_infer', '_simple_new', '_sort_levels_monotonic', '_string_data_error', '_to_embed', '_to_safe_for_reshape', '_try_convert_to_int_index', '_typ', '_unpickle_compat', '_update_inplace', '_validate_for_numeric_binop', '_validate_for_numeric_unaryop', '_validate_index_level', '_validate_indexer', '_validate_names', '_values', '_wrap_joined_index', '_wrap_union_result', 'all', 'any', 'append', 'argmax', 'argmin', 'argsort', 'asi8', 'asof', 'asof_locs', 'astype', 'base', 'contains', 'copy', 'data', 'delete', 'difference', 'drop', 'drop_duplicates', 'dropna', 'dtype', 'dtype_str', 'duplicated', 'empty', 'equals', 'factorize', 'fillna', 'flags', 'format', 'get_duplicates', 'get_indexer', 'get_indexer_for', 'get_indexer_non_unique', 'get_level_values', 'get_loc', 'get_slice_bound', 'get_value', 'get_values', 'groupby', 'has_duplicates', 'hasnans', 'holds_integer', 'identical', 'inferred_type', 'insert', 'intersection', 'is_', 'is_all_dates', 'is_boolean', 'is_categorical', 'is_floating', 'is_integer', 'is_interval', 'is_lexsorted_for_tuple', 'is_mixed', 'is_monotonic', 'is_monotonic_decreasing', 'is_monotonic_increasing', 'is_numeric', 'is_object', 'is_type_compatible', 'is_unique', 'isin', 'isna', 'isnull', 'item', 'itemsize', 'join', 'map', 'max', 'memory_usage', 'min', 'name', 'names', 'nbytes', 'ndim', 'nlevels', 'notna', 'notnull', 'nunique', 'putmask', 'ravel', 'reindex', 'rename', 'repeat', 'reshape', 'searchsorted', 'set_names', 'set_value', 'shape', 'shift', 'size', 'slice_indexer', 'slice_locs', 'sort', 'sort_values', 'sortlevel', 'strides', 'summary', 'symmetric_difference', 'take', 'to_datetime', 'to_frame', 'to_native_types', 'to_series', 'tolist', 'transpose', 'union', 'unique', 'value_counts', 'values', 'view', 'where']\n"
     ]
    }
   ],
   "source": [
    "print(dir(ind))"
   ]
  },
  {
   "cell_type": "code",
   "execution_count": null,
   "metadata": {},
   "outputs": [],
   "source": [
    "ind[1] = 1000"
   ]
  },
  {
   "cell_type": "markdown",
   "metadata": {},
   "source": [
    "#### Index as ordered set\n",
    "* Set theory\n",
    "    * The Index object follows many of the conventions used by Python’s built-in set data structure\n",
    "    * so that unions, intersections, differences, and other combinations can be computed in a familiar way"
   ]
  },
  {
   "cell_type": "code",
   "execution_count": 44,
   "metadata": {},
   "outputs": [],
   "source": [
    "indA = pd.Index([1, 3, 5, 7, 9])\n",
    "indB = pd.Index([2, 3, 5, 7, 11])"
   ]
  },
  {
   "cell_type": "code",
   "execution_count": 45,
   "metadata": {},
   "outputs": [
    {
     "data": {
      "text/plain": [
       "Int64Index([3, 5, 7], dtype='int64')"
      ]
     },
     "execution_count": 45,
     "metadata": {},
     "output_type": "execute_result"
    }
   ],
   "source": [
    "indA & indB # intersection"
   ]
  },
  {
   "cell_type": "code",
   "execution_count": 46,
   "metadata": {},
   "outputs": [
    {
     "data": {
      "text/plain": [
       "Int64Index([1, 2, 3, 5, 7, 9, 11], dtype='int64')"
      ]
     },
     "execution_count": 46,
     "metadata": {},
     "output_type": "execute_result"
    }
   ],
   "source": [
    "indA | indB # union"
   ]
  },
  {
   "cell_type": "code",
   "execution_count": 47,
   "metadata": {},
   "outputs": [
    {
     "data": {
      "text/plain": [
       "Int64Index([1, 2, 9, 11], dtype='int64')"
      ]
     },
     "execution_count": 47,
     "metadata": {},
     "output_type": "execute_result"
    }
   ],
   "source": [
    "indA ^ indB # symmetric difference"
   ]
  }
 ],
 "metadata": {
  "kernelspec": {
   "display_name": "Python 3",
   "language": "python",
   "name": "python3"
  },
  "language_info": {
   "codemirror_mode": {
    "name": "ipython",
    "version": 3
   },
   "file_extension": ".py",
   "mimetype": "text/x-python",
   "name": "python",
   "nbconvert_exporter": "python",
   "pygments_lexer": "ipython3",
   "version": "3.6.4"
  }
 },
 "nbformat": 4,
 "nbformat_minor": 2
}
