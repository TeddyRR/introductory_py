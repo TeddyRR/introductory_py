{
 "cells": [
  {
   "cell_type": "markdown",
   "metadata": {},
   "source": [
    "## <font color = blue> Introduction to NumPy </font>\n",
    "> - <font color = blue> NumPy: Numerical Python </font>\n",
    "> - <font color = blue> NumPy provides an efficient interface to store and operate on dense data buffers.</font>\n",
    "> - <font color = blue> NumPy arrays form the core of nearly the entire ecosystem of data science tools in Python.</font>"
   ]
  },
  {
   "cell_type": "code",
   "execution_count": 1,
   "metadata": {},
   "outputs": [],
   "source": [
    "import numpy as np"
   ]
  },
  {
   "cell_type": "code",
   "execution_count": null,
   "metadata": {
    "scrolled": false
   },
   "outputs": [],
   "source": [
    "a = dir(np)\n",
    "len(a)"
   ]
  },
  {
   "cell_type": "code",
   "execution_count": null,
   "metadata": {
    "scrolled": false
   },
   "outputs": [],
   "source": [
    "with open(\"numpylist.txt\", 'w') as f_obj:\n",
    "    for item in a:\n",
    "        f_obj.write(\"{}\\n\".format(item))\n",
    "        \n",
    "b = dir(np.random)\n",
    "with open(\"np_random_list.txt\", 'w') as f_obj:\n",
    "    for item in b:\n",
    "        f_obj.write(\"{}\\n\".format(item))\n",
    "        \n",
    "with open(\"np_random_list2.txt\", 'w') as f_obj:\n",
    "    for item in b:\n",
    "        f_obj.write(\"<br>&nbsp;&nbsp;{}\\n\".format(item))"
   ]
  },
  {
   "cell_type": "code",
   "execution_count": null,
   "metadata": {},
   "outputs": [],
   "source": [
    "range?"
   ]
  },
  {
   "cell_type": "markdown",
   "metadata": {},
   "source": [
    "### <font color = blue> Understanding Data Types in Python </font>\n",
    "> - <font color = blue> Dynamic vs static typing </font>\n",
    "<img src=\"files/typing.PNG\" width = \"400\">\n",
    "> - <font color = blue> In C, the data types of each variable are explicitly declared, while in Python the types are dynamically inferred. This means, for example, that we can assign any kind of data to any variable </font>\n",
    "> - <font color = blue> Python variables are more than just their value; they also contain extra information about the type of the value. </font>\n",
    "\n",
    "#### <font color = blue> A Python Integer Is More Than Just an Integer </font>\n",
    "> - <font color = blue> The standard Python implementation is written in C.</font>\n",
    "> - <font color = blue> Integer(long) type definition contains 4 pieces: </font>\n",
    "<img src=\"files/intlong.PNG\" width = \"150\">\n",
    "\n",
    " > &nbsp;&nbsp;&nbsp;<font color = blue> 1. ob_refcnt, a reference count that hleps Python silently handle memory allocation and deallocation </font>\n",
    " \n",
    " > &nbsp;&nbsp;&nbsp;<font color = blue> 2. ob_type, which encodes the type of the variable </font>\n",
    " \n",
    " > &nbsp;&nbsp;&nbsp;<font color = blue> 3. ob_size, which specifies the size of the following data memebers.</font>\n",
    " \n",
    " > &nbsp;&nbsp;&nbsp;<font color = blue> 4. ob_digit, which contains the actual integer value that we expect the Python variable to represent.</font>\n",
    "\n",
    "> - <font color = blue> A C integer is essentially a label for a position in memory whose bytes encode an integer value.</font>\n",
    "> - <font color = blue> A Python Integer is a pointer to a a position in memory containing all the Python object information, including the bytes that contains the integer value. </font>\n",
    "\n",
    "#### <font color = blue> A Python List Is More Than Just a List </font>\n",
    "> - <font color = blue> Because of Python's dynamic typing, we can even create heterogeneous lists. </font>\n",
    "> - <font color = blue> Flexibility comes at a cost: </font>\n",
    "\n",
    "> &nbsp;&nbsp;&nbsp;&nbsp; <font color = blue> *1. To allow these flexible types, each item is a complete Python object.* </font>\n",
    "\n",
    "> &nbsp;&nbsp;&nbsp;&nbsp; <font color = blue> *2. Redundant if all variables are of the same type.* </font>\n",
    "\n",
    "> &nbsp;&nbsp;&nbsp;&nbsp; <font color = blue> *3. More efficient to store and manipulate data in a fixed-type (NumPy-style) array.* </font>\n",
    "\n",
    "> - <font color = blue> **At the implementation level**  </font>\n",
    "\n",
    "> &nbsp;&nbsp;&nbsp;&nbsp; <font color = blue> *1. The array contains a single pointer to one contiguous block of data* </font>\n",
    "\n",
    "> &nbsp;&nbsp;&nbsp;&nbsp; <font color = blue> *2. The Python list contains a pointer to a block of pointers, each of which points to a full Python object.* </font>\n",
    "\n",
    "<img src=\"files/list_array.PNG\" width = \"400\">\n"
   ]
  },
  {
   "cell_type": "code",
   "execution_count": null,
   "metadata": {},
   "outputs": [],
   "source": [
    "x = 4\n",
    "x = \"four\""
   ]
  },
  {
   "cell_type": "code",
   "execution_count": null,
   "metadata": {},
   "outputs": [],
   "source": [
    "L = list(range(10))\n",
    "L"
   ]
  },
  {
   "cell_type": "code",
   "execution_count": null,
   "metadata": {},
   "outputs": [],
   "source": [
    "type(L), type(L[1])"
   ]
  },
  {
   "cell_type": "code",
   "execution_count": null,
   "metadata": {},
   "outputs": [],
   "source": [
    "L2 = [str(c) for c in L]\n",
    "L2"
   ]
  },
  {
   "cell_type": "code",
   "execution_count": null,
   "metadata": {},
   "outputs": [],
   "source": [
    "L2 = []\n",
    "for c in L:\n",
    "    L2.append(str(c))\n",
    "L2"
   ]
  },
  {
   "cell_type": "code",
   "execution_count": null,
   "metadata": {
    "scrolled": true
   },
   "outputs": [],
   "source": [
    "%timeit L2 = [str(c) for c in L]"
   ]
  },
  {
   "cell_type": "code",
   "execution_count": null,
   "metadata": {},
   "outputs": [],
   "source": [
    "%%timeit\n",
    "for c in L:\n",
    "    L2.append(str(c))"
   ]
  },
  {
   "cell_type": "code",
   "execution_count": null,
   "metadata": {},
   "outputs": [],
   "source": [
    "str?"
   ]
  },
  {
   "cell_type": "code",
   "execution_count": null,
   "metadata": {},
   "outputs": [],
   "source": [
    "type(L2), type(L2[0])"
   ]
  },
  {
   "cell_type": "code",
   "execution_count": null,
   "metadata": {
    "scrolled": false
   },
   "outputs": [],
   "source": [
    "[type(item) for item in L2]"
   ]
  },
  {
   "cell_type": "code",
   "execution_count": null,
   "metadata": {},
   "outputs": [],
   "source": [
    "L3 = [True, \"2\", 3.0, 4] # Heterogeneous list"
   ]
  },
  {
   "cell_type": "code",
   "execution_count": null,
   "metadata": {},
   "outputs": [],
   "source": [
    "[type(item) for item in L3]"
   ]
  },
  {
   "cell_type": "markdown",
   "metadata": {},
   "source": [
    "#### <font color = blue> Fixed-Type Arrays in Python </font>\n",
    "> - <font color = blue> Built-in array module </font>\n",
    "<img src=\"files/array_array.PNG\" width = \"400\">\n",
    "\n",
    "> - <font color = blue> *ndarray* object of the NumPy package </font>"
   ]
  },
  {
   "cell_type": "code",
   "execution_count": null,
   "metadata": {},
   "outputs": [],
   "source": [
    "import array\n",
    "L = list(range(10))\n",
    "A = array.array('i', L)  # 'i' is a type code\n",
    "print(A)"
   ]
  },
  {
   "cell_type": "code",
   "execution_count": null,
   "metadata": {},
   "outputs": [],
   "source": [
    "array.array('u', ['1', '2', '3', 'a'])"
   ]
  },
  {
   "cell_type": "markdown",
   "metadata": {},
   "source": [
    "#### <font color = blue> Creating Arrays from Python Lists </font>\n",
    "> - <font color = blue> *np.array(object, dtype=None, copy=True, order='K', subok=False, ndmin=0)* </font>\n",
    "> - <font color = blue> Upcasting if mixed type: 当数组中存储的是不同类型的元素时，数组将使用占用更多位（bit）的数据类型作为其本身的数据类型，也就是偏向更精确的数据类型(这种行为叫做upcast) </font>\n",
    "> - <font color = blue> NumPy arrays can be multidimensional </font>"
   ]
  },
  {
   "cell_type": "code",
   "execution_count": null,
   "metadata": {},
   "outputs": [],
   "source": [
    "import numpy as np"
   ]
  },
  {
   "cell_type": "code",
   "execution_count": null,
   "metadata": {},
   "outputs": [],
   "source": [
    "np.array?"
   ]
  },
  {
   "cell_type": "code",
   "execution_count": null,
   "metadata": {},
   "outputs": [],
   "source": [
    "np.array([1, 4, 2, 5, 3], 'float32' )"
   ]
  },
  {
   "cell_type": "code",
   "execution_count": null,
   "metadata": {
    "scrolled": true
   },
   "outputs": [],
   "source": [
    "np.array([3.14, 4, 2, 3])"
   ]
  },
  {
   "cell_type": "code",
   "execution_count": null,
   "metadata": {},
   "outputs": [],
   "source": [
    "[range(i, i + 3) for i in [2, 4, 6]]"
   ]
  },
  {
   "cell_type": "code",
   "execution_count": null,
   "metadata": {},
   "outputs": [],
   "source": [
    "# nested lists result in multidimensional arrays\n",
    "np.array([range(i, i + 3) for i in [2, 4, 6]]) \n",
    "# The inner lists are treated as rows of the resulting 2D array"
   ]
  },
  {
   "cell_type": "markdown",
   "metadata": {},
   "source": [
    "#### <font color = blue> Creating Arrays from Scratch </font>\n",
    "> - <font color = blue> *np.zeros, np.ones, np.full, \n",
    " <br>  np.arange, np.linspace, \n",
    " <br>  np.random.random, np.random.normal, \n",
    " <br>  np.random.randint, np.eye * </font>"
   ]
  },
  {
   "cell_type": "code",
   "execution_count": null,
   "metadata": {},
   "outputs": [],
   "source": [
    "np.ones?"
   ]
  },
  {
   "cell_type": "code",
   "execution_count": null,
   "metadata": {},
   "outputs": [],
   "source": [
    "# Create a length-10 integer array filled with zeros\n",
    "np.zeros(10, dtype = int).shape"
   ]
  },
  {
   "cell_type": "code",
   "execution_count": null,
   "metadata": {},
   "outputs": [],
   "source": [
    "# Create a 3x5 floating-point array filled with 1s\n",
    "np.ones((3, 5), dtype = float)"
   ]
  },
  {
   "cell_type": "code",
   "execution_count": null,
   "metadata": {},
   "outputs": [],
   "source": [
    "# Create a 3x5 array filled with 3.14\n",
    "np.full((3, 5), 3.14)"
   ]
  },
  {
   "cell_type": "code",
   "execution_count": null,
   "metadata": {},
   "outputs": [],
   "source": [
    "# Create an array filled with a linear sequence\n",
    "# Starting at 0, ending at 20, stepping by 2\n",
    "# (this is similar to the built-in range() function)\n",
    "np.arange(0, 20, 2)"
   ]
  },
  {
   "cell_type": "code",
   "execution_count": null,
   "metadata": {},
   "outputs": [],
   "source": [
    "np.arange?"
   ]
  },
  {
   "cell_type": "code",
   "execution_count": 3,
   "metadata": {},
   "outputs": [
    {
     "data": {
      "image/png": "[encoded data removed]",
      "text/plain": [
       "<matplotlib.figure.Figure at 0x8aab0f0>"
      ]
     },
     "metadata": {},
     "output_type": "display_data"
    },
    {
     "data": {
      "image/png": "[encoded data removed]",
      "text/plain": [
       "<matplotlib.figure.Figure at 0x8569d68>"
      ]
     },
     "metadata": {},
     "output_type": "display_data"
    }
   ],
   "source": [
    "%matplotlib inline\n",
    "import matplotlib.pyplot as plt\n",
    "# Create an array of five values evenly spaced between 0 and 1\n",
    "x = np.linspace(0, 100, 256)\n",
    "y = np.sin(x)\n",
    "plt.plot(y)\n",
    "plt.show()\n",
    "plt.plot(x, y)\n",
    "plt.show()"
   ]
  },
  {
   "cell_type": "code",
   "execution_count": null,
   "metadata": {},
   "outputs": [],
   "source": [
    "# Create a 3x3 array of uniformly distributed\n",
    "# random values between 0 and 1\n",
    "np.random.random((300, 300))"
   ]
  },
  {
   "cell_type": "code",
   "execution_count": null,
   "metadata": {},
   "outputs": [],
   "source": [
    "np.random.normal?"
   ]
  },
  {
   "cell_type": "code",
   "execution_count": null,
   "metadata": {},
   "outputs": [],
   "source": [
    "# Create a 3x3 array of normally distributed random values\n",
    "# with mean 0 and standard deviation 1\n",
    "np.random.normal(size=(3, 3))"
   ]
  },
  {
   "cell_type": "code",
   "execution_count": null,
   "metadata": {},
   "outputs": [],
   "source": [
    "import matplotlib.pyplot as plt\n",
    "import numpy as np\n",
    "a = np.random.normal(loc = 10, scale = 0.1, size = 10000000)\n",
    "plt.hist(a, bins = 1000, density = True, histtype = 'step')\n",
    "plt.show()"
   ]
  },
  {
   "cell_type": "code",
   "execution_count": null,
   "metadata": {},
   "outputs": [],
   "source": [
    "np.random.randint?"
   ]
  },
  {
   "cell_type": "code",
   "execution_count": null,
   "metadata": {},
   "outputs": [],
   "source": [
    "# Create a 3x3 array of random integers in the interval [0, 10)\n",
    "a = np.random.randint(0, 10, 10000)\n",
    "plt.hist(a, bins = 30)\n",
    "plt.show()"
   ]
  },
  {
   "cell_type": "code",
   "execution_count": 4,
   "metadata": {},
   "outputs": [
    {
     "data": {
      "text/plain": [
       "array([[1., 0., 0.],\n",
       "       [0., 1., 0.],\n",
       "       [0., 0., 1.]])"
      ]
     },
     "execution_count": 4,
     "metadata": {},
     "output_type": "execute_result"
    }
   ],
   "source": [
    "# Create a 3x3 identity matrix\n",
    "np.eye(3)"
   ]
  },
  {
   "cell_type": "markdown",
   "metadata": {},
   "source": [
    "#### <font color = blue> NumPy Standard Data Types </font>\n",
    "<img src = \"files/data_types.PNG\" width = 400>\n",
    "\n",
    "> - <font color = blue> np.zeros(shape, dtype=float, order='C')\n",
    "<br> np.ones(shape, dtype=None, order='C')\n",
    "<br> np.full(shape, fill_value, dtype=None, order='C')\n",
    "<br> np.arange([start,] stop[, step,], dtype=None)\n",
    "<br> np.linspace(start, stop, num=50, endpoint=True, retstep=False, dtype=None)\n",
    "<br> np.random.random(size = None)\n",
    "<br> np.random.normal(loc=0.0, scale=1.0, size=None)\n",
    "<br> np.random.randint(low, high=None, size=None, dtype='l')\n",
    "<br> np.eye(N, M=None, k=0, dtype=<class 'float'>, order='C') </font>"
   ]
  },
  {
   "cell_type": "code",
   "execution_count": 5,
   "metadata": {},
   "outputs": [
    {
     "data": {
      "text/plain": [
       "array([[0.28970699, 0.4008573 , 0.48781867],\n",
       "       [0.68241317, 0.84459255, 0.78878157]])"
      ]
     },
     "execution_count": 5,
     "metadata": {},
     "output_type": "execute_result"
    }
   ],
   "source": [
    "np.random.random_sample((2,3))"
   ]
  },
  {
   "cell_type": "code",
   "execution_count": 6,
   "metadata": {},
   "outputs": [
    {
     "data": {
      "text/plain": [
       "array([ True,  True,  True,  True,  True,  True,  True,  True,  True,\n",
       "        True])"
      ]
     },
     "execution_count": 6,
     "metadata": {},
     "output_type": "execute_result"
    }
   ],
   "source": [
    "np.zeros(10, dtype = 'int16') == np.zeros(10, dtype=np.int16)"
   ]
  },
  {
   "cell_type": "code",
   "execution_count": 7,
   "metadata": {},
   "outputs": [
    {
     "data": {
      "text/plain": [
       "True"
      ]
     },
     "execution_count": 7,
     "metadata": {},
     "output_type": "execute_result"
    }
   ],
   "source": [
    "np.array_equal(np.zeros(10, dtype = 'int16'), np.zeros(10, dtype=np.int16))"
   ]
  },
  {
   "cell_type": "code",
   "execution_count": 8,
   "metadata": {},
   "outputs": [
    {
     "data": {
      "text/plain": [
       "True"
      ]
     },
     "execution_count": 8,
     "metadata": {},
     "output_type": "execute_result"
    }
   ],
   "source": [
    "np.all(np.zeros(10, dtype = 'int16') == np.zeros(10, dtype=np.int16))"
   ]
  },
  {
   "cell_type": "markdown",
   "metadata": {},
   "source": [
    "#### <font color = blue> The Basics of NumPy Arrays </font>\n",
    "> - <font color = blue> Data manipulatoin in Python is nearly synonymous with NumPy array manipulation: even newer tools like Pandas are built around the NumPy array. \n",
    "<br>&nbsp;&nbsp; 1. Access data and subarrays\n",
    "<br>&nbsp;&nbsp; 2. Split arrays\n",
    "<br>&nbsp;&nbsp; 3. Reshape arrays\n",
    "<br>&nbsp;&nbsp; 4. Join arrays </font>\n",
    "> - <font color = blue> Basic array manipulations </font>\n",
    "<img src = \"files/array_manipulation.PNG\" width = 400>\n",
    "\n",
    "#### <font color = blue> NumPy Array Attributes </font>\n",
    "> - <font color = blue> Random number generator to generate a 1D, 2D and 3D array with seed. </font>\n",
    "> - <font color = blue> np.random.X\n",
    "<br> **<mark> X = <mark> **\n",
    "<br>&nbsp;&nbsp;binomial\n",
    "<br>&nbsp;&nbsp;chisquare\n",
    "<br>&nbsp;&nbsp;exponential\n",
    "<br>&nbsp;&nbsp;f\n",
    "<br>&nbsp;&nbsp;gamma\n",
    "<br>&nbsp;&nbsp;geometric\n",
    "<br>&nbsp;&nbsp;hypergeometric\n",
    "<br>&nbsp;&nbsp;logistic\n",
    "<br>&nbsp;&nbsp;lognormal\n",
    "<br>&nbsp;&nbsp;logseries\n",
    "<br>&nbsp;&nbsp;multinomial\n",
    "<br>&nbsp;&nbsp;multivariate_normal\n",
    "<br>&nbsp;&nbsp;negative_binomial\n",
    "<br>&nbsp;&nbsp;normal\n",
    "<br>&nbsp;&nbsp;permutation\n",
    "<br>&nbsp;&nbsp;poisson\n",
    "<br>&nbsp;&nbsp;power\n",
    "<br>&nbsp;&nbsp;rand\n",
    "<br>&nbsp;&nbsp;randint\n",
    "<br>&nbsp;&nbsp;randn\n",
    "<br>&nbsp;&nbsp;random\n",
    "<br>&nbsp;&nbsp;random_integers\n",
    "<br>&nbsp;&nbsp;random_sample\n",
    "<br>&nbsp;&nbsp;sample\n",
    "<br>&nbsp;&nbsp;seed\n",
    "<br>&nbsp;&nbsp;standard_cauchy\n",
    "<br>&nbsp;&nbsp;standard_exponential\n",
    "<br>&nbsp;&nbsp;standard_gamma\n",
    "<br>&nbsp;&nbsp;standard_normal\n",
    "<br>&nbsp;&nbsp;standard_t\n",
    "<br>&nbsp;&nbsp;uniform\n",
    "<br>&nbsp;&nbsp;weibull\n",
    "<br>&nbsp;&nbsp;zipf\n",
    "</font>"
   ]
  },
  {
   "cell_type": "code",
   "execution_count": 60,
   "metadata": {},
   "outputs": [],
   "source": [
    "np.random.seed(0) # seed for reproducibility\n",
    "\n",
    "x1 = np.random.randint(10, size=6)\n",
    "x2 = np.random.randint(10, size=(3, 4))\n",
    "x3 = np.random.rand(3, 4, 5)"
   ]
  },
  {
   "cell_type": "code",
   "execution_count": 58,
   "metadata": {},
   "outputs": [
    {
     "data": {
      "text/plain": [
       "array([[[0.47997717, 0.3927848 , 0.83607876, 0.33739616, 0.64817187],\n",
       "        [0.36824154, 0.95715516, 0.14035078, 0.87008726, 0.47360805],\n",
       "        [0.80091075, 0.52047748, 0.67887953, 0.72063265, 0.58201979],\n",
       "        [0.53737323, 0.75861562, 0.10590761, 0.47360042, 0.18633234]],\n",
       "\n",
       "       [[0.73691818, 0.21655035, 0.13521817, 0.32414101, 0.14967487],\n",
       "        [0.22232139, 0.38648898, 0.90259848, 0.44994999, 0.61306346],\n",
       "        [0.90234858, 0.09928035, 0.96980907, 0.65314004, 0.17090959],\n",
       "        [0.35815217, 0.75068614, 0.60783067, 0.32504723, 0.03842543]],\n",
       "\n",
       "       [[0.63427406, 0.95894927, 0.65279032, 0.63505887, 0.99529957],\n",
       "        [0.58185033, 0.41436859, 0.4746975 , 0.6235101 , 0.33800761],\n",
       "        [0.67475232, 0.31720174, 0.77834548, 0.94957105, 0.66252687],\n",
       "        [0.01357164, 0.6228461 , 0.67365963, 0.971945  , 0.87819347]]])"
      ]
     },
     "execution_count": 58,
     "metadata": {},
     "output_type": "execute_result"
    }
   ],
   "source": [
    "x3"
   ]
  },
  {
   "cell_type": "code",
   "execution_count": 11,
   "metadata": {},
   "outputs": [
    {
     "data": {
      "text/plain": [
       "array([[3, 5, 2, 4],\n",
       "       [7, 6, 8, 8],\n",
       "       [1, 6, 7, 7]])"
      ]
     },
     "execution_count": 11,
     "metadata": {},
     "output_type": "execute_result"
    }
   ],
   "source": [
    "x2"
   ]
  },
  {
   "cell_type": "code",
   "execution_count": 18,
   "metadata": {},
   "outputs": [
    {
     "data": {
      "text/plain": [
       "<matplotlib.image.AxesImage at 0x8aa2240>"
      ]
     },
     "execution_count": 18,
     "metadata": {},
     "output_type": "execute_result"
    },
    {
     "data": {
      "image/png": "[encoded data removed]",
      "text/plain": [
       "<matplotlib.figure.Figure at 0x8649748>"
      ]
     },
     "metadata": {},
     "output_type": "display_data"
    }
   ],
   "source": [
    "plt.imshow(x2, extent=[0, 4, 0, 3])"
   ]
  },
  {
   "cell_type": "code",
   "execution_count": 12,
   "metadata": {},
   "outputs": [
    {
     "data": {
      "text/plain": [
       "array([[[8, 1, 5, 9, 8],\n",
       "        [9, 4, 3, 0, 3],\n",
       "        [5, 0, 2, 3, 8],\n",
       "        [1, 3, 3, 3, 7]],\n",
       "\n",
       "       [[0, 1, 9, 9, 0],\n",
       "        [4, 7, 3, 2, 7],\n",
       "        [2, 0, 0, 4, 5],\n",
       "        [5, 6, 8, 4, 1]],\n",
       "\n",
       "       [[4, 9, 8, 1, 1],\n",
       "        [7, 9, 9, 3, 6],\n",
       "        [7, 2, 0, 3, 5],\n",
       "        [9, 4, 4, 6, 4]]])"
      ]
     },
     "execution_count": 12,
     "metadata": {},
     "output_type": "execute_result"
    }
   ],
   "source": [
    "x3"
   ]
  },
  {
   "cell_type": "markdown",
   "metadata": {},
   "source": [
    "#### <font color = blue> NumPy Array Attributes </font>\n",
    "\n",
    "> - <font color = blue> Important attributs:\n",
    "<br>\n",
    "<br>&nbsp;&nbsp;*ndim*: the number of dimensions\n",
    "<br>&nbsp;&nbsp;*shape*: the size of each dimension\n",
    "<br>&nbsp;&nbsp;*size*: the total size of the array\n",
    "<br>\n",
    "<br>&nbsp;&nbsp;*dtype*: the data type of the array\n",
    "<br>\n",
    "<br>&nbsp;&nbsp;*itemsize*: the size of each array element in bytes\n",
    "<br>&nbsp;&nbsp;*nbytes*: the total size of the array in bytes\n",
    "</font>"
   ]
  },
  {
   "cell_type": "code",
   "execution_count": 22,
   "metadata": {},
   "outputs": [
    {
     "name": "stdout",
     "output_type": "stream",
     "text": [
      "x3 ndim:  3\n",
      "x3 shape:  (256, 256, 512)\n",
      "x3 size:  33554432\n",
      "x3 dytpe:  int32\n",
      "x3 itemsize:  4 bytes\n",
      "x3 total size:  134217728 bytes\n"
     ]
    }
   ],
   "source": [
    "print(\"x3 ndim: \", x3.ndim)\n",
    "print(\"x3 shape: \", x3.shape)\n",
    "print(\"x3 size: \", x3.size)\n",
    "print(\"x3 dytpe: \", x3.dtype )\n",
    "print(\"x3 itemsize: \", x3.itemsize, \"bytes\")\n",
    "print(\"x3 total size: \", x3.nbytes, \"bytes\")"
   ]
  },
  {
   "cell_type": "code",
   "execution_count": 20,
   "metadata": {},
   "outputs": [
    {
     "name": "stdout",
     "output_type": "stream",
     "text": [
      "x3 ndim:  2\n",
      "x3 shape:  (300, 400)\n",
      "x3 size:  120000\n",
      "x3 dytpe:  int32\n",
      "x3 itemsize:  4 bytes\n",
      "x3 total size:  480000 bytes\n"
     ]
    }
   ],
   "source": [
    "print(\"x3 ndim: \", x2.ndim)\n",
    "print(\"x3 shape: \", x2.shape)\n",
    "print(\"x3 size: \", x2.size)\n",
    "print(\"x3 dytpe: \", x2.dtype )\n",
    "print(\"x3 itemsize: \", x2.itemsize, \"bytes\")\n",
    "print(\"x3 total size: \", x2.nbytes, \"bytes\")"
   ]
  },
  {
   "cell_type": "markdown",
   "metadata": {},
   "source": [
    "#### <font color = blue> Array Indexing: Accessing Single Elements: **<mark>off-by-one rule<mark>** </font>\n",
    "> - <font color = blue> 1D: same as Python lists </font>"
   ]
  },
  {
   "cell_type": "code",
   "execution_count": 24,
   "metadata": {},
   "outputs": [
    {
     "data": {
      "text/plain": [
       "array([5, 0, 3, 3, 7, 9])"
      ]
     },
     "execution_count": 24,
     "metadata": {},
     "output_type": "execute_result"
    }
   ],
   "source": [
    "x1"
   ]
  },
  {
   "cell_type": "code",
   "execution_count": 25,
   "metadata": {},
   "outputs": [
    {
     "data": {
      "text/plain": [
       "5"
      ]
     },
     "execution_count": 25,
     "metadata": {},
     "output_type": "execute_result"
    }
   ],
   "source": [
    "x1[0]"
   ]
  },
  {
   "cell_type": "code",
   "execution_count": 26,
   "metadata": {},
   "outputs": [
    {
     "data": {
      "text/plain": [
       "7"
      ]
     },
     "execution_count": 26,
     "metadata": {},
     "output_type": "execute_result"
    }
   ],
   "source": [
    "x1[4]"
   ]
  },
  {
   "cell_type": "markdown",
   "metadata": {},
   "source": [
    "&emsp; <font color = blue> To index from the end of the array, you can use negative indices </font>"
   ]
  },
  {
   "cell_type": "code",
   "execution_count": 34,
   "metadata": {},
   "outputs": [
    {
     "data": {
      "text/plain": [
       "array([3, 7, 9])"
      ]
     },
     "execution_count": 34,
     "metadata": {},
     "output_type": "execute_result"
    }
   ],
   "source": [
    "x1[-3:]"
   ]
  },
  {
   "cell_type": "markdown",
   "metadata": {},
   "source": [
    "> - <font color = blue> Multi-D: comma-separated tuple(?) of indices </font>"
   ]
  },
  {
   "cell_type": "markdown",
   "metadata": {},
   "source": [
    "##### <font color = red size = 2> Tuble vs List </font>\n",
    "<font color = red size = 1>\n",
    " 1. The literal syntax of tuples is shown by parentheses () whereas the literal syntax of lists is shown by square brackets [] .\n",
    " 2. Lists has variable length, tuple has fixed length.\n",
    " 3. List has mutable nature, tuple has immutable nature.\n",
    " 4. List has more functionality than the tuple.\n"
   ]
  },
  {
   "cell_type": "code",
   "execution_count": 37,
   "metadata": {},
   "outputs": [],
   "source": [
    "L = [1, 2, 3]"
   ]
  },
  {
   "cell_type": "code",
   "execution_count": 40,
   "metadata": {},
   "outputs": [
    {
     "data": {
      "text/plain": [
       "[0.002, 2, 3]"
      ]
     },
     "execution_count": 40,
     "metadata": {},
     "output_type": "execute_result"
    }
   ],
   "source": [
    "L[0] = 0.002\n",
    "L"
   ]
  },
  {
   "cell_type": "code",
   "execution_count": 42,
   "metadata": {},
   "outputs": [
    {
     "ename": "TypeError",
     "evalue": "'tuple' object does not support item assignment",
     "output_type": "error",
     "traceback": [
      "\u001b[1;31m---------------------------------------------------------------------------\u001b[0m",
      "\u001b[1;31mTypeError\u001b[0m                                 Traceback (most recent call last)",
      "\u001b[1;32m<ipython-input-42-3b2265942cca>\u001b[0m in \u001b[0;36m<module>\u001b[1;34m()\u001b[0m\n\u001b[0;32m      1\u001b[0m \u001b[0mTu\u001b[0m \u001b[1;33m=\u001b[0m \u001b[1;33m(\u001b[0m\u001b[1;36m1\u001b[0m\u001b[1;33m,\u001b[0m \u001b[1;36m2\u001b[0m\u001b[1;33m,\u001b[0m \u001b[1;36m3\u001b[0m\u001b[1;33m)\u001b[0m\u001b[1;33m\u001b[0m\u001b[0m\n\u001b[1;32m----> 2\u001b[1;33m \u001b[0mTu\u001b[0m\u001b[1;33m[\u001b[0m\u001b[1;36m0\u001b[0m\u001b[1;33m]\u001b[0m \u001b[1;33m=\u001b[0m \u001b[1;36m0.002\u001b[0m\u001b[1;33m\u001b[0m\u001b[0m\n\u001b[0m",
      "\u001b[1;31mTypeError\u001b[0m: 'tuple' object does not support item assignment"
     ]
    }
   ],
   "source": [
    "Tu = (1, 2, 3)\n",
    "Tu[0] = 0.002"
   ]
  },
  {
   "cell_type": "code",
   "execution_count": 43,
   "metadata": {},
   "outputs": [
    {
     "data": {
      "text/plain": [
       "array([[3, 5, 2, 4],\n",
       "       [7, 6, 8, 8],\n",
       "       [1, 6, 7, 7]])"
      ]
     },
     "execution_count": 43,
     "metadata": {},
     "output_type": "execute_result"
    }
   ],
   "source": [
    "x2"
   ]
  },
  {
   "cell_type": "code",
   "execution_count": 44,
   "metadata": {},
   "outputs": [
    {
     "data": {
      "text/plain": [
       "3"
      ]
     },
     "execution_count": 44,
     "metadata": {},
     "output_type": "execute_result"
    }
   ],
   "source": [
    "x2[0, 0]"
   ]
  },
  {
   "cell_type": "code",
   "execution_count": 45,
   "metadata": {},
   "outputs": [
    {
     "data": {
      "text/plain": [
       "1"
      ]
     },
     "execution_count": 45,
     "metadata": {},
     "output_type": "execute_result"
    }
   ],
   "source": [
    "x2[2, 0]"
   ]
  },
  {
   "cell_type": "code",
   "execution_count": 46,
   "metadata": {},
   "outputs": [
    {
     "data": {
      "text/plain": [
       "7"
      ]
     },
     "execution_count": 46,
     "metadata": {},
     "output_type": "execute_result"
    }
   ],
   "source": [
    "x2[2, -1]"
   ]
  },
  {
   "cell_type": "markdown",
   "metadata": {},
   "source": [
    "&emsp; <font color = blue> Modify values </font>"
   ]
  },
  {
   "cell_type": "code",
   "execution_count": 47,
   "metadata": {},
   "outputs": [
    {
     "data": {
      "text/plain": [
       "array([[12,  5,  2,  4],\n",
       "       [ 7,  6,  8,  8],\n",
       "       [ 1,  6,  7,  7]])"
      ]
     },
     "execution_count": 47,
     "metadata": {},
     "output_type": "execute_result"
    }
   ],
   "source": [
    "x2[0, 0] = 12\n",
    "x2"
   ]
  },
  {
   "cell_type": "markdown",
   "metadata": {},
   "source": [
    "&emsp; <font color = blue> NumPy arrays have a fixed type. If inserting a floating-point value to an integer array, <font color = red> **the value will be silently truncated.** </font>"
   ]
  },
  {
   "cell_type": "code",
   "execution_count": 48,
   "metadata": {},
   "outputs": [
    {
     "data": {
      "text/plain": [
       "array([5, 0, 3, 3, 7, 9])"
      ]
     },
     "execution_count": 48,
     "metadata": {},
     "output_type": "execute_result"
    }
   ],
   "source": [
    "x1"
   ]
  },
  {
   "cell_type": "code",
   "execution_count": 49,
   "metadata": {},
   "outputs": [
    {
     "data": {
      "text/plain": [
       "3.141592653589793"
      ]
     },
     "execution_count": 49,
     "metadata": {},
     "output_type": "execute_result"
    }
   ],
   "source": [
    "np.pi"
   ]
  },
  {
   "cell_type": "code",
   "execution_count": 61,
   "metadata": {},
   "outputs": [
    {
     "data": {
      "text/plain": [
       "array([[[3.14159265, 0.3927848 , 0.83607876, 0.33739616, 0.64817187],\n",
       "        [0.36824154, 0.95715516, 0.14035078, 0.87008726, 0.47360805],\n",
       "        [0.80091075, 0.52047748, 0.67887953, 0.72063265, 0.58201979],\n",
       "        [0.53737323, 0.75861562, 0.10590761, 0.47360042, 0.18633234]],\n",
       "\n",
       "       [[0.73691818, 0.21655035, 0.13521817, 0.32414101, 0.14967487],\n",
       "        [0.22232139, 0.38648898, 0.90259848, 0.44994999, 0.61306346],\n",
       "        [0.90234858, 0.09928035, 0.96980907, 0.65314004, 0.17090959],\n",
       "        [0.35815217, 0.75068614, 0.60783067, 0.32504723, 0.03842543]],\n",
       "\n",
       "       [[0.63427406, 0.95894927, 0.65279032, 0.63505887, 0.99529957],\n",
       "        [0.58185033, 0.41436859, 0.4746975 , 0.6235101 , 0.33800761],\n",
       "        [0.67475232, 0.31720174, 0.77834548, 0.94957105, 0.66252687],\n",
       "        [0.01357164, 0.6228461 , 0.67365963, 0.971945  , 0.87819347]]])"
      ]
     },
     "execution_count": 61,
     "metadata": {},
     "output_type": "execute_result"
    }
   ],
   "source": [
    "x3[0, 0, 0] = np.pi\n",
    "x3"
   ]
  },
  {
   "cell_type": "markdown",
   "metadata": {},
   "source": [
    "#### <font color = blue> Array Slicing: Accessing Subarrays: **<mark>off-by-one rule<mark>** </font>\n",
    "&emsp; <font color = blue> **Slice notation**: colon(:) </font>\n",
    "<br>&emsp;&emsp;&emsp;&emsp;&emsp;&emsp;&emsp;&emsp;<font color = blue> x[start : stop : step]  </font>\n",
    "<br>&emsp;&emsp;&emsp;<font color = blue> If unspecified, start = 0, stop = size of dimension, step = 1  </font>"
   ]
  },
  {
   "cell_type": "code",
   "execution_count": 62,
   "metadata": {},
   "outputs": [
    {
     "data": {
      "text/plain": [
       "array([0, 1, 2, 3, 4, 5, 6, 7, 8, 9])"
      ]
     },
     "execution_count": 62,
     "metadata": {},
     "output_type": "execute_result"
    }
   ],
   "source": [
    "x = np.arange(10)\n",
    "x"
   ]
  },
  {
   "cell_type": "code",
   "execution_count": 63,
   "metadata": {},
   "outputs": [
    {
     "data": {
      "text/plain": [
       "array([0, 1, 2, 3, 4])"
      ]
     },
     "execution_count": 63,
     "metadata": {},
     "output_type": "execute_result"
    }
   ],
   "source": [
    "# First five elements\n",
    "x[0:5]"
   ]
  },
  {
   "cell_type": "code",
   "execution_count": 64,
   "metadata": {},
   "outputs": [
    {
     "data": {
      "text/plain": [
       "array([5, 6, 7, 8, 9])"
      ]
     },
     "execution_count": 64,
     "metadata": {},
     "output_type": "execute_result"
    }
   ],
   "source": [
    "# Elements after index 5\n",
    "x[5:]"
   ]
  },
  {
   "cell_type": "code",
   "execution_count": 65,
   "metadata": {},
   "outputs": [
    {
     "data": {
      "text/plain": [
       "array([4, 5, 6])"
      ]
     },
     "execution_count": 65,
     "metadata": {},
     "output_type": "execute_result"
    }
   ],
   "source": [
    "# Middle subarray\n",
    "x[4:7]"
   ]
  },
  {
   "cell_type": "code",
   "execution_count": 66,
   "metadata": {},
   "outputs": [
    {
     "data": {
      "text/plain": [
       "array([0, 2, 4, 6, 8])"
      ]
     },
     "execution_count": 66,
     "metadata": {},
     "output_type": "execute_result"
    }
   ],
   "source": [
    "# every other element\n",
    "x[::2]"
   ]
  },
  {
   "cell_type": "code",
   "execution_count": 67,
   "metadata": {},
   "outputs": [
    {
     "data": {
      "text/plain": [
       "array([1, 3, 5, 7, 9])"
      ]
     },
     "execution_count": 67,
     "metadata": {},
     "output_type": "execute_result"
    }
   ],
   "source": [
    "# every other element, starting at index 1\n",
    "x[1::2]"
   ]
  },
  {
   "cell_type": "markdown",
   "metadata": {},
   "source": [
    "&emsp; <font color = blue> Negative **step** value: the **start** and **stop** are swapped, which is a convenient way to reverse an array. </font>"
   ]
  },
  {
   "cell_type": "code",
   "execution_count": 68,
   "metadata": {},
   "outputs": [
    {
     "data": {
      "text/plain": [
       "array([9, 8, 7, 6, 5, 4, 3, 2, 1, 0])"
      ]
     },
     "execution_count": 68,
     "metadata": {},
     "output_type": "execute_result"
    }
   ],
   "source": [
    "# All elements, reversed\n",
    "x[::-1]"
   ]
  },
  {
   "cell_type": "code",
   "execution_count": 72,
   "metadata": {},
   "outputs": [
    {
     "data": {
      "text/plain": [
       "array([8, 6, 4])"
      ]
     },
     "execution_count": 72,
     "metadata": {},
     "output_type": "execute_result"
    }
   ],
   "source": [
    "# reversed every other from index 5\n",
    "x[:5:-1] # x[end:5:-1] # x[5:end:1]\n",
    "x[8:2:-2]"
   ]
  },
  {
   "cell_type": "markdown",
   "metadata": {},
   "source": [
    "#### <font color = blue> Multidimensional subarrays </font>\n",
    "> - <font color = blue> Work in the same way, with multiple slices separated by commas (,) </font>"
   ]
  },
  {
   "cell_type": "code",
   "execution_count": 76,
   "metadata": {},
   "outputs": [
    {
     "data": {
      "text/plain": [
       "array([[3, 5, 2, 4],\n",
       "       [7, 6, 8, 8],\n",
       "       [1, 6, 7, 7]])"
      ]
     },
     "execution_count": 76,
     "metadata": {},
     "output_type": "execute_result"
    }
   ],
   "source": [
    "x2"
   ]
  },
  {
   "cell_type": "code",
   "execution_count": 73,
   "metadata": {},
   "outputs": [
    {
     "data": {
      "text/plain": [
       "array([[3, 5, 2],\n",
       "       [7, 6, 8]])"
      ]
     },
     "execution_count": 73,
     "metadata": {},
     "output_type": "execute_result"
    }
   ],
   "source": [
    "# two rows, three columns\n",
    "x2[:2, :3]"
   ]
  },
  {
   "cell_type": "code",
   "execution_count": 74,
   "metadata": {},
   "outputs": [
    {
     "data": {
      "text/plain": [
       "array([[3, 2],\n",
       "       [7, 8],\n",
       "       [1, 7]])"
      ]
     },
     "execution_count": 74,
     "metadata": {},
     "output_type": "execute_result"
    }
   ],
   "source": [
    "# all rows, every other column\n",
    "x2[:, ::2]"
   ]
  },
  {
   "cell_type": "code",
   "execution_count": 75,
   "metadata": {},
   "outputs": [
    {
     "data": {
      "text/plain": [
       "array([[7, 7, 6, 1],\n",
       "       [8, 8, 6, 7],\n",
       "       [4, 2, 5, 3]])"
      ]
     },
     "execution_count": 75,
     "metadata": {},
     "output_type": "execute_result"
    }
   ],
   "source": [
    "# subarray can be reversed together\n",
    "x2[::-1, ::-1]"
   ]
  },
  {
   "cell_type": "markdown",
   "metadata": {},
   "source": [
    "#### <font color = blue> Accessing array rows and columns </font>\n",
    "> - <font color = blue> Empty slice marked by a single colon (:) </font>"
   ]
  },
  {
   "cell_type": "code",
   "execution_count": 77,
   "metadata": {},
   "outputs": [
    {
     "name": "stdout",
     "output_type": "stream",
     "text": [
      "[3 7 1]\n"
     ]
    }
   ],
   "source": [
    "# first column of x2\n",
    "print(x2[:, 0])"
   ]
  },
  {
   "cell_type": "code",
   "execution_count": 78,
   "metadata": {},
   "outputs": [
    {
     "name": "stdout",
     "output_type": "stream",
     "text": [
      "[3 5 2 4]\n"
     ]
    }
   ],
   "source": [
    "# first row of x2\n",
    "print(x2[0, :])"
   ]
  },
  {
   "cell_type": "code",
   "execution_count": 79,
   "metadata": {},
   "outputs": [
    {
     "name": "stdout",
     "output_type": "stream",
     "text": [
      "[3 5 2 4]\n"
     ]
    },
    {
     "data": {
      "text/plain": [
       "True"
      ]
     },
     "execution_count": 79,
     "metadata": {},
     "output_type": "execute_result"
    }
   ],
   "source": [
    "# In the case of row access, \n",
    "# the empty slice can be omitted for a more compact syntax\n",
    "print(x2[0])\n",
    "np.array_equal(x2[0], x2[0, :])"
   ]
  },
  {
   "cell_type": "markdown",
   "metadata": {},
   "source": [
    "<br> <font color = red size = 4> VERY IMPORTANT! </font>\n",
    "\n",
    "####  <font color = blue> Subarrays as no-copy views </font>\n",
    "> - <font color = red size = 4> Do **NOT** use \"=\" to make a copy of array. Use **.copy** method. </font>"
   ]
  },
  {
   "cell_type": "code",
   "execution_count": 80,
   "metadata": {},
   "outputs": [
    {
     "data": {
      "text/plain": [
       "array([[3, 5, 2, 4],\n",
       "       [7, 6, 8, 8],\n",
       "       [1, 6, 7, 7]])"
      ]
     },
     "execution_count": 80,
     "metadata": {},
     "output_type": "execute_result"
    }
   ],
   "source": [
    "x2"
   ]
  },
  {
   "cell_type": "code",
   "execution_count": 81,
   "metadata": {},
   "outputs": [],
   "source": [
    "x2.copy?"
   ]
  },
  {
   "cell_type": "code",
   "execution_count": 82,
   "metadata": {
    "scrolled": false
   },
   "outputs": [
    {
     "name": "stdout",
     "output_type": "stream",
     "text": [
      "Line 2: show x2 \n",
      " [[3 5 2 4]\n",
      " [7 6 8 8]\n",
      " [1 6 7 7]] \n",
      "\n",
      "Line 3: compare a with x2\n",
      " True \n",
      "\n",
      "Line 5: compare c with a\n",
      " True \n",
      "\n",
      "Line 6: see initial c[0, 0]\n",
      " 3 \n",
      "\n",
      "Line 8: show new c\n",
      " [[100000      5      2      4]\n",
      " [     7      6      8      8]\n",
      " [     1      6      7      7]] \n",
      "\n",
      "Line 9: compare new c with a\n",
      " True \n",
      "\n",
      "Line 10: compare a with x2\n",
      " False \n",
      "\n"
     ]
    }
   ],
   "source": [
    "a = x2.copy()\n",
    "print(\"Line 2: show x2 \\n\", x2, \"\\n\") \n",
    "print(\"Line 3: compare a with x2\\n\", np.array_equal(a, x2), \"\\n\")\n",
    "c = a\n",
    "print(\"Line 5: compare c with a\\n\", np.array_equal(c, a), \"\\n\")\n",
    "print(\"Line 6: see initial c[0, 0]\\n\", c[0,0], \"\\n\")\n",
    "c[0, 0] = 100000\n",
    "print(\"Line 8: show new c\\n\", c, \"\\n\")\n",
    "print(\"Line 9: compare new c with a\\n\", np.array_equal(a, c), \"\\n\")\n",
    "print(\"Line 10: compare a with x2\\n\", np.array_equal(a, x2), \"\\n\")"
   ]
  },
  {
   "cell_type": "code",
   "execution_count": 83,
   "metadata": {
    "scrolled": true
   },
   "outputs": [
    {
     "name": "stdout",
     "output_type": "stream",
     "text": [
      "L(Original) =  [0, 1, 2, 3, 4] \n",
      "\n",
      "L = [10, 1, 2, 3, 4]\n",
      "L1 = [10, 1, 2, 3, 4]\n",
      "L2 = [0, 100, 2, 3, 4]\n"
     ]
    }
   ],
   "source": [
    "L = list(range(5))\n",
    "print(\"L(Original) = \", L, \"\\n\")\n",
    "L1 = L\n",
    "L2 = L.copy()\n",
    "L1[0] = 10\n",
    "L2[1] = 100\n",
    "print(\"L = {}\\nL1 = {}\\nL2 = {}\".format(L, L1, L2))"
   ]
  },
  {
   "cell_type": "markdown",
   "metadata": {},
   "source": [
    "end here!!!"
   ]
  },
  {
   "cell_type": "markdown",
   "metadata": {},
   "source": [
    "####  <font color = blue> Reshaping of Arrays </font>\n",
    "> - <font color = blue>  The **.reshape** method: \n",
    "<br>&emsp;&emsp;a.reshape(shape, order='C')</font>\n",
    "> - <font color = blue> The **newaxis** keyword within a slice operation. </font>\n",
    "<br> <font color = blue> &emsp;&emsp; the newaxis expression is used to increase the dimension of the existing array by one more dimension, when used once. </font>"
   ]
  },
  {
   "cell_type": "code",
   "execution_count": 94,
   "metadata": {},
   "outputs": [
    {
     "data": {
      "text/plain": [
       "array([[3, 5, 2, 4],\n",
       "       [7, 6, 8, 8],\n",
       "       [1, 6, 7, 7]])"
      ]
     },
     "execution_count": 94,
     "metadata": {},
     "output_type": "execute_result"
    }
   ],
   "source": [
    "x22 = x2.copy()\n",
    "x22"
   ]
  },
  {
   "cell_type": "code",
   "execution_count": 100,
   "metadata": {},
   "outputs": [
    {
     "ename": "ValueError",
     "evalue": "cannot reshape array of size 12 into shape (4,4)",
     "output_type": "error",
     "traceback": [
      "\u001b[1;31m---------------------------------------------------------------------------\u001b[0m",
      "\u001b[1;31mValueError\u001b[0m                                Traceback (most recent call last)",
      "\u001b[1;32m<ipython-input-100-d161535764d4>\u001b[0m in \u001b[0;36m<module>\u001b[1;34m()\u001b[0m\n\u001b[1;32m----> 1\u001b[1;33m \u001b[0mx23\u001b[0m \u001b[1;33m=\u001b[0m \u001b[0mx22\u001b[0m\u001b[1;33m.\u001b[0m\u001b[0mreshape\u001b[0m\u001b[1;33m(\u001b[0m\u001b[1;33m(\u001b[0m\u001b[1;36m4\u001b[0m\u001b[1;33m,\u001b[0m \u001b[1;36m4\u001b[0m\u001b[1;33m)\u001b[0m\u001b[1;33m)\u001b[0m\u001b[1;33m\u001b[0m\u001b[0m\n\u001b[0m\u001b[0;32m      2\u001b[0m \u001b[0mx23\u001b[0m\u001b[1;33m\u001b[0m\u001b[0m\n",
      "\u001b[1;31mValueError\u001b[0m: cannot reshape array of size 12 into shape (4,4)"
     ]
    }
   ],
   "source": [
    "x23 = x22.reshape((4, 4))\n",
    "x23"
   ]
  },
  {
   "cell_type": "code",
   "execution_count": 101,
   "metadata": {},
   "outputs": [
    {
     "name": "stdout",
     "output_type": "stream",
     "text": [
      "[[1 2 3]\n",
      " [4 5 6]\n",
      " [7 8 9]]\n"
     ]
    }
   ],
   "source": [
    "grid = np.arange(1, 10).reshape((3, 3))\n",
    "print(grid)"
   ]
  },
  {
   "cell_type": "code",
   "execution_count": 103,
   "metadata": {},
   "outputs": [
    {
     "name": "stdout",
     "output_type": "stream",
     "text": [
      "[1 2 3 4 5 6 7 8 9] \n",
      "\n",
      " [[1 2 3]\n",
      " [4 5 6]\n",
      " [7 8 9]]\n"
     ]
    }
   ],
   "source": [
    "x = np.arange(1, 10)\n",
    "b = x.reshape((3,3))\n",
    "print(x, \"\\n\\n\", b)"
   ]
  },
  {
   "cell_type": "code",
   "execution_count": 111,
   "metadata": {},
   "outputs": [
    {
     "data": {
      "text/plain": [
       "array([1, 2, 3])"
      ]
     },
     "execution_count": 111,
     "metadata": {},
     "output_type": "execute_result"
    }
   ],
   "source": [
    "x = np.arange(1,4)\n",
    "x"
   ]
  },
  {
   "cell_type": "code",
   "execution_count": 110,
   "metadata": {},
   "outputs": [
    {
     "data": {
      "text/plain": [
       "array([[1, 2, 3]])"
      ]
     },
     "execution_count": 110,
     "metadata": {},
     "output_type": "execute_result"
    }
   ],
   "source": [
    "# row vector via reshape\n",
    "x.reshape((1,3))"
   ]
  },
  {
   "cell_type": "code",
   "execution_count": 116,
   "metadata": {},
   "outputs": [
    {
     "data": {
      "text/plain": [
       "(1, 3)"
      ]
     },
     "execution_count": 116,
     "metadata": {},
     "output_type": "execute_result"
    }
   ],
   "source": [
    "# row vector via newaxis\n",
    "a = x[np.newaxis, :]\n",
    "a.shape"
   ]
  },
  {
   "cell_type": "code",
   "execution_count": 117,
   "metadata": {},
   "outputs": [
    {
     "data": {
      "text/plain": [
       "(1, 3)"
      ]
     },
     "execution_count": 117,
     "metadata": {},
     "output_type": "execute_result"
    }
   ],
   "source": [
    "a = x.reshape((1, 3))\n",
    "a.shape"
   ]
  },
  {
   "cell_type": "code",
   "execution_count": 118,
   "metadata": {},
   "outputs": [
    {
     "data": {
      "text/plain": [
       "array([[1],\n",
       "       [2],\n",
       "       [3]])"
      ]
     },
     "execution_count": 118,
     "metadata": {},
     "output_type": "execute_result"
    }
   ],
   "source": [
    "# column vector via newaxis\n",
    "x[:, np.newaxis]"
   ]
  },
  {
   "cell_type": "code",
   "execution_count": 119,
   "metadata": {
    "scrolled": true
   },
   "outputs": [
    {
     "data": {
      "text/plain": [
       "array([[1],\n",
       "       [2],\n",
       "       [3]])"
      ]
     },
     "execution_count": 119,
     "metadata": {},
     "output_type": "execute_result"
    }
   ],
   "source": [
    "# column vector via reshape\n",
    "x.reshape((3,1))"
   ]
  },
  {
   "cell_type": "markdown",
   "metadata": {},
   "source": [
    "###  <font color = blue> Array Concatenation and Splitting </font>\n",
    "&emsp;&emsp;<font color = blue> Combine multiple arrays into one, and to conversely split a single array into multiple arrays </font>\n",
    "#### <font color = blue> Array Concatenation and Splitting </font>\n",
    "&emsp;&emsp;<font color = blue> np.concatenate((a1, a2, ...), axis=0, out=None) </font>\n",
    "&emsp;&emsp;<font color = blue> np.vstack() </font>\n",
    "&emsp;&emsp;<font color = blue> np.hstack() </font>"
   ]
  },
  {
   "cell_type": "code",
   "execution_count": 140,
   "metadata": {},
   "outputs": [
    {
     "data": {
      "text/plain": [
       "array([1, 2, 3, 3, 2, 1])"
      ]
     },
     "execution_count": 140,
     "metadata": {},
     "output_type": "execute_result"
    }
   ],
   "source": [
    "x = np.arange(1, 4) #np.array([1, 2, 3])\n",
    "y = x[::-1].copy() #np.array([3, 2, 1])\n",
    "np.concatenate([x, y])"
   ]
  },
  {
   "cell_type": "code",
   "execution_count": 141,
   "metadata": {},
   "outputs": [
    {
     "name": "stdout",
     "output_type": "stream",
     "text": [
      "[ 1  2  3  3  2  1 99 99 99]\n"
     ]
    }
   ],
   "source": [
    "z = np.full(3, 99)\n",
    "print(np.concatenate([x, y, z]))"
   ]
  },
  {
   "cell_type": "code",
   "execution_count": 144,
   "metadata": {},
   "outputs": [
    {
     "data": {
      "text/plain": [
       "array([[1, 2, 3],\n",
       "       [4, 5, 6],\n",
       "       [1, 2, 3],\n",
       "       [4, 5, 6]])"
      ]
     },
     "execution_count": 144,
     "metadata": {},
     "output_type": "execute_result"
    }
   ],
   "source": [
    "grid = np.arange(1,7).reshape(2,3)\n",
    "# concatenate along the first axis\n",
    "np.concatenate([grid, grid], axis = 0)"
   ]
  },
  {
   "cell_type": "code",
   "execution_count": 143,
   "metadata": {},
   "outputs": [
    {
     "data": {
      "text/plain": [
       "array([[1, 2, 3, 1, 2, 3],\n",
       "       [4, 5, 6, 4, 5, 6]])"
      ]
     },
     "execution_count": 143,
     "metadata": {},
     "output_type": "execute_result"
    }
   ],
   "source": [
    "# concatenate along the second axis (zero-indexed)\n",
    "np.concatenate([grid, grid], axis = 1)"
   ]
  },
  {
   "cell_type": "code",
   "execution_count": 145,
   "metadata": {},
   "outputs": [],
   "source": [
    "x = np.arange(1, 4)\n",
    "grid = np.arange(4,10)[::-1].reshape(2,3)"
   ]
  },
  {
   "cell_type": "code",
   "execution_count": 146,
   "metadata": {},
   "outputs": [
    {
     "data": {
      "text/plain": [
       "array([[1, 2, 3],\n",
       "       [9, 8, 7],\n",
       "       [6, 5, 4]])"
      ]
     },
     "execution_count": 146,
     "metadata": {},
     "output_type": "execute_result"
    }
   ],
   "source": [
    "# vertically stack the arrays\n",
    "np.vstack([x, grid])"
   ]
  },
  {
   "cell_type": "code",
   "execution_count": 147,
   "metadata": {},
   "outputs": [
    {
     "data": {
      "text/plain": [
       "array([[ 9,  8,  7, 99],\n",
       "       [ 6,  5,  4, 99]])"
      ]
     },
     "execution_count": 147,
     "metadata": {},
     "output_type": "execute_result"
    }
   ],
   "source": [
    "# horizontally stack the arrays\n",
    "y = np.full((2, 1), 99)\n",
    "np.hstack([grid, y])"
   ]
  },
  {
   "cell_type": "markdown",
   "metadata": {},
   "source": [
    "#### <font color = blue> Splitting of arrays </font>\n",
    "&emsp;&emsp;<font color = blue> np.split(ary, indices_or_sections, axis=0) </font>\n",
    "&emsp;&emsp;<font color = blue> np.vsplit(ary, indices_or_sections) </font>\n",
    "&emsp;&emsp;<font color = blue> np.hsplit(ary, indices_or_sections) </font>"
   ]
  },
  {
   "cell_type": "code",
   "execution_count": 158,
   "metadata": {},
   "outputs": [
    {
     "data": {
      "text/plain": [
       "array([[ 1,  2,  3, 99, 99,  3,  2,  1],\n",
       "       [ 1,  2,  3, 99, 99,  3,  2,  1]])"
      ]
     },
     "execution_count": 158,
     "metadata": {},
     "output_type": "execute_result"
    }
   ],
   "source": [
    "x = np.concatenate([np.arange(1, 4), np.full(2, 99), np.arange(1, 4)[::-1]])\n",
    "x2 = np.vstack([x, x])\n",
    "x2"
   ]
  },
  {
   "cell_type": "code",
   "execution_count": 151,
   "metadata": {},
   "outputs": [
    {
     "name": "stdout",
     "output_type": "stream",
     "text": [
      "[1 2 3] [99 99] [3 2 1]\n"
     ]
    }
   ],
   "source": [
    "x1, x2, x3 = np.split(x, [3, 5]) # N split points lead to N + 1 subarrays.\n",
    "print(x1, x2, x3)"
   ]
  },
  {
   "cell_type": "code",
   "execution_count": 154,
   "metadata": {},
   "outputs": [],
   "source": [
    "np.split?"
   ]
  },
  {
   "cell_type": "code",
   "execution_count": 152,
   "metadata": {},
   "outputs": [
    {
     "data": {
      "text/plain": [
       "(7, 8, 9)"
      ]
     },
     "execution_count": 152,
     "metadata": {},
     "output_type": "execute_result"
    }
   ],
   "source": [
    "a = 7\n",
    "b = 8\n",
    "c = 9\n",
    "a, b, c"
   ]
  },
  {
   "cell_type": "code",
   "execution_count": 153,
   "metadata": {},
   "outputs": [
    {
     "data": {
      "text/plain": [
       "(7, 8, 9)"
      ]
     },
     "execution_count": 153,
     "metadata": {},
     "output_type": "execute_result"
    }
   ],
   "source": [
    "a, b, c = 7, 8, 9\n",
    "a, b, c"
   ]
  },
  {
   "cell_type": "code",
   "execution_count": 165,
   "metadata": {},
   "outputs": [
    {
     "data": {
      "text/plain": [
       "array([[ 0,  1,  2,  3],\n",
       "       [ 4,  5,  6,  7],\n",
       "       [ 8,  9, 10, 11],\n",
       "       [12, 13, 14, 15]])"
      ]
     },
     "execution_count": 165,
     "metadata": {},
     "output_type": "execute_result"
    }
   ],
   "source": [
    "grid = np.arange(16).reshape((4, 4))\n",
    "grid"
   ]
  },
  {
   "cell_type": "code",
   "execution_count": null,
   "metadata": {},
   "outputs": [],
   "source": [
    "upper, lower = np.vsplit(grid, [2])\n",
    "print(upper, \"\\n\")\n",
    "print(lower)"
   ]
  },
  {
   "cell_type": "code",
   "execution_count": null,
   "metadata": {},
   "outputs": [],
   "source": [
    "left, right = np.hsplit(grid, [2])\n",
    "print(left, \"\\n\")\n",
    "print(right)"
   ]
  }
 ],
 "metadata": {
  "kernelspec": {
   "display_name": "Python 3",
   "language": "python",
   "name": "python3"
  },
  "language_info": {
   "codemirror_mode": {
    "name": "ipython",
    "version": 3
   },
   "file_extension": ".py",
   "mimetype": "text/x-python",
   "name": "python",
   "nbconvert_exporter": "python",
   "pygments_lexer": "ipython3",
   "version": "3.6.4"
  }
 },
 "nbformat": 4,
 "nbformat_minor": 2
}
